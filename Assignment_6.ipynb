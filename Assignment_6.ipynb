{
  "nbformat": 4,
  "nbformat_minor": 0,
  "metadata": {
    "colab": {
      "name": "Assignment 6.ipynb",
      "provenance": []
    },
    "kernelspec": {
      "name": "python3",
      "display_name": "Python 3"
    },
    "language_info": {
      "name": "python"
    }
  },
  "cells": [
    {
      "cell_type": "markdown",
      "metadata": {
        "id": "AUvFLuKoj4pM"
      },
      "source": [
        "Code Word: DEV"
      ]
    },
    {
      "cell_type": "code",
      "metadata": {
        "id": "tVLpdK4O1cHn"
      },
      "source": [
        "import numpy as np\n",
        "import sympy as sym\n",
        "import matplotlib.pyplot as plt\n",
        "import time\n",
        "from scipy.integrate  import ode, solve_ivp"
      ],
      "execution_count": 18,
      "outputs": []
    },
    {
      "cell_type": "markdown",
      "metadata": {
        "id": "umn9z-fq418U"
      },
      "source": [
        "# Question 1: \n",
        "PUMA, SCARA and Stanford Manipulators are moving from A(0.40, 0.06, 0.1) to B(0.40, 0.01, 0.1). Generate desired end-point trajectory. Plot end effector position, velocity and acceleration w.r.t time. "
      ]
    },
    {
      "cell_type": "code",
      "metadata": {
        "id": "6OOwuDJw2Fr6"
      },
      "source": [
        "to = 0\n",
        "tf = 1\n",
        "qo = np.array([0.4, 0.06, 0.1])\n",
        "qf = np.array([0.4, 0.01, 0.1])\n",
        "vo = np.array([0, 0, 0])\n",
        "vf = np.array([0, 0, 0])"
      ],
      "execution_count": 19,
      "outputs": []
    },
    {
      "cell_type": "code",
      "metadata": {
        "id": "Y4pABAAfShDT"
      },
      "source": [
        "#Cubic Polynomial Trajectory\n",
        "def constants_for_cubic_polynomial_trajectory(to, tf, qo, qf, vo, vf):\n",
        "  qo_x, qo_y, qo_z = qo\n",
        "  qf_x, qf_y, qf_z = qf\n",
        "  vo_x, vo_y, vo_z = vo\n",
        "  vf_x, vf_y, vf_z = vf\n",
        "\n",
        "  LHS = np.array([[1, to, to^2, to^3],\n",
        "                  [0, 1, 2*to, 3*((to)^2)],\n",
        "                  [1, tf, tf^2, tf^3],\n",
        "                  [0, 1, 2*tf, 3*((tf)^2)]])\n",
        "  RHS_x = np.array([[qo_x], [vo_x], [qf_x], [vf_x]])\n",
        "  RHS_y = np.array([[qo_y], [vo_y], [qf_y], [vf_y]])\n",
        "  RHS_z = np.array([[qo_z], [vo_z], [qf_z], [vf_z]])\n",
        "  \n",
        "  A_mat_x = np.linalg.inv(LHS)@RHS_x\n",
        "  A_mat_y = np.linalg.inv(LHS)@RHS_y\n",
        "  A_mat_z = np.linalg.inv(LHS)@RHS_z\n",
        "\n",
        "  return A_mat_x, A_mat_y, A_mat_z\n",
        "\n",
        "#print(constants_for_cubic_polynomial_trajectory(to, tf, qo, qf, vo, vf))"
      ],
      "execution_count": 20,
      "outputs": []
    },
    {
      "cell_type": "code",
      "metadata": {
        "id": "HmmRBkcxVieS"
      },
      "source": [
        "def end_effector_posveloacc_from_Amat(A_mat_x, A_mat_y, A_mat_z):\n",
        "  time_vector = np.array(range(0, 10000, 1))/10000\n",
        "\n",
        "  position_array_x = []\n",
        "  position_array_y = []\n",
        "  position_array_z = []\n",
        "\n",
        "  velocity_array_x = []\n",
        "  velocity_array_y = []\n",
        "  velocity_array_z = []\n",
        "\n",
        "  acceleration_array_x = []\n",
        "  acceleration_array_y = []\n",
        "  acceleration_array_z = []\n",
        "\n",
        "  for t in time_vector: \n",
        "    position_x = A_mat_x[0] + A_mat_x[1]*(t) + A_mat_x[2]*(t**2) + A_mat_x[3]*(t**3)\n",
        "    position_y = A_mat_y[0] + A_mat_y[1]*(t) + A_mat_y[2]*(t**2) + A_mat_y[3]*(t**3)\n",
        "    position_z = A_mat_z[0] + A_mat_z[1]*(t) + A_mat_z[2]*(t**2) + A_mat_z[3]*(t**3)\n",
        "\n",
        "    velo_x = A_mat_x[1] + 2*A_mat_x[2]*t + 3*A_mat_x[3]*(t**2)\n",
        "    velo_y = A_mat_y[1] + 2*A_mat_y[2]*t + 3*A_mat_y[3]*(t**2)\n",
        "    velo_z = A_mat_z[1] + 2*A_mat_z[2]*t + 3*A_mat_z[3]*(t**2)\n",
        "\n",
        "    acc_x = 2*A_mat_x[2] + 6*A_mat_x[3]*t\n",
        "    acc_y = 2*A_mat_y[2] + 6*A_mat_y[3]*t\n",
        "    acc_z = 2*A_mat_z[2] + 6*A_mat_z[3]*t\n",
        "\n",
        "    position_array_x.append(position_x)\n",
        "    position_array_y.append(position_y)\n",
        "    position_array_z.append(position_z)\n",
        "\n",
        "    velocity_array_x.append(velo_x)\n",
        "    velocity_array_y.append(velo_y)\n",
        "    velocity_array_z.append(velo_z)\n",
        "\n",
        "    acceleration_array_x.append(acc_x)\n",
        "    acceleration_array_y.append(acc_y)\n",
        "    acceleration_array_z.append(acc_z)\n",
        "\n",
        "  return time_vector, position_array_x, position_array_y, position_array_z, velocity_array_x, velocity_array_y, velocity_array_z, acceleration_array_x, acceleration_array_y, acceleration_array_z"
      ],
      "execution_count": 21,
      "outputs": []
    },
    {
      "cell_type": "code",
      "metadata": {
        "id": "zHwkR_uVXl6k"
      },
      "source": [
        "def plot_pos_vs_time(time_vector, position_x, position_y, position_z, labelx, labely, labelz, title):\n",
        "  plt.plot(time_vector, position_x, label = labelx)\n",
        "  plt.plot(time_vector, position_y, label = labely)\n",
        "  plt.plot(time_vector, position_z, label = labelz)\n",
        "\n",
        "  plt.title(title)\n",
        "\n",
        "  plt.legend()\n",
        "  plt.show()\n",
        "\n",
        "def plot_velo_vs_time(time_vector, velocity_x, velocity_y, velocity_z):\n",
        "  plt.plot(time_vector, velocity_x, label = 'X Velocity')\n",
        "  plt.plot(time_vector, velocity_y, label = 'Y Velocity')\n",
        "  plt.plot(time_vector, velocity_z, label = 'Z Velocity')\n",
        "\n",
        "  plt.title('Velocity vs Time Plots')\n",
        "\n",
        "  plt.legend()\n",
        "  plt.show()\n",
        "\n",
        "def plot_acc_vs_time(time_vector, acc_x, acc_y, acc_z):\n",
        "  plt.plot(time_vector, acc_x, label = 'X Acceleration')\n",
        "  plt.plot(time_vector, acc_y, label = 'Y Acceleration')\n",
        "  plt.plot(time_vector, acc_z, label = 'Z Acceleration')\n",
        "\n",
        "  plt.title('Acceleration vs Time Plots')\n",
        "\n",
        "  plt.legend()\n",
        "  plt.show()"
      ],
      "execution_count": 22,
      "outputs": []
    },
    {
      "cell_type": "code",
      "metadata": {
        "colab": {
          "base_uri": "https://localhost:8080/",
          "height": 809
        },
        "id": "ecnV-4mfi3IW",
        "outputId": "c90b408d-7a94-42fa-8060-67d62d55e839"
      },
      "source": [
        "A_mat_x, A_mat_y, A_mat_z = constants_for_cubic_polynomial_trajectory(to, tf, qo, qf, vo, vf)\n",
        "time_vector, position_array_x, position_array_y, position_array_z, velocity_array_x, velocity_array_y, velocity_array_z, acceleration_array_x, acceleration_array_y, acceleration_array_z = end_effector_posveloacc_from_Amat(A_mat_x, A_mat_y, A_mat_z)\n",
        "plot_pos_vs_time(time_vector, position_array_x, position_array_y, position_array_z, 'X', 'Y', 'Z', 'Position vs Time Plots')\n",
        "plot_velo_vs_time(time_vector, velocity_array_x, velocity_array_y, velocity_array_z) # X and Z velocities are overlapping in this case, therefore only one colour will be visible\n",
        "plot_acc_vs_time(time_vector, acceleration_array_x, acceleration_array_y, acceleration_array_z) # X and Z accelerations are overlapping in this case, therefore only one colour will be visible"
      ],
      "execution_count": 23,
      "outputs": [
        {
          "output_type": "display_data",
          "data": {
            "image/png": "[encoded data removed]",
            "text/plain": [
              "<Figure size 432x288 with 1 Axes>"
            ]
          },
          "metadata": {
            "needs_background": "light"
          }
        },
        {
          "output_type": "display_data",
          "data": {
            "image/png": "[encoded data removed]",
            "text/plain": [
              "<Figure size 432x288 with 1 Axes>"
            ]
          },
          "metadata": {
            "needs_background": "light"
          }
        },
        {
          "output_type": "display_data",
          "data": {
            "image/png": "[encoded data removed]",
            "text/plain": [
              "<Figure size 432x288 with 1 Axes>"
            ]
          },
          "metadata": {
            "needs_background": "light"
          }
        }
      ]
    },
    {
      "cell_type": "markdown",
      "metadata": {
        "id": "_iS4hSyekdWd"
      },
      "source": [
        "# Question 2: \n",
        "Pick any one manipulator (your choice) out of Stanford, PUMA, and SCARA. Using the dimensions worked out in Task 1.a of Mid-sem exam (tweak those numbers if need be), then work out the desired trajectories in joint space. Plot these joint trajectories with respect to time. Use this same manipulator for all other tasks."
      ]
    },
    {
      "cell_type": "markdown",
      "metadata": {
        "id": "7oaK3CapwpmU"
      },
      "source": [
        "Let's Implement this for PUMA"
      ]
    },
    {
      "cell_type": "code",
      "metadata": {
        "id": "P-7ncJGvjikw"
      },
      "source": [
        "#Code Credits: Videh Patel \n",
        "\n",
        "def DH2HnJ(Hmat, prismatic=[]):\n",
        "    #Hmat is the DH parameter matrix\n",
        "    #prismatic is an array of the joints that are prismatic: Joint corresponding to qi is ith joint\n",
        "    #All revolute and prismatic axes are assumed to be aligned with the respective z axis\n",
        "\n",
        "    def d_(k):\n",
        "        #Returns position vector of ee wrt k-frame in o-frame basis\n",
        "        return (T[k][:3,:3])@(np.linalg.inv(T[k])@T[n]@(np.matrix([[0],[0],[0],[1]])))[:3,0]\n",
        "        \n",
        "    n = len(Hmat)\n",
        "    T = [np.matrix([[1,0,0,0],[0,1,0,0],[0,0,1,0],[0,0,0,1]])]  #Array of all absolute Homogeneous Transformations : Has T0_0 at the start (Identity matrix)\n",
        "    J = []  #Manipulator Jacobian\n",
        "    for params in Hmat:\n",
        "        theta, d, a, alpha = np.array(params)[0]\n",
        "        Ti = np.matrix([ [ np.cos(theta), -np.sin(theta)*np.cos(alpha), np.sin(theta)*np.sin(alpha), a*np.cos(theta)],\\\n",
        "                         [ np.sin(theta), np.cos(theta)*np.cos(alpha), -np.cos(theta)*np.sin(alpha), a*np.sin(theta)],\\\n",
        "                         [ 0            , np.sin(alpha)               , np.cos(alpha)              , d              ],\\\n",
        "                         [ 0            , 0                           , 0                          ,1              ] ], dtype = 'float')\n",
        "        \n",
        "\n",
        "        T.append(T[-1]@Ti)\n",
        "\n",
        "    for i in range(n):\n",
        "        if (i+1) in prismatic:\n",
        "            Jv = T[i][:3,:3]@np.matrix([0,0,1]).T\n",
        "            Jw = np.matrix([0,0,0]).T\n",
        "        else: #Revolute\n",
        "            Jw = T[i][:3,:3]@np.matrix([0,0,1]).T\n",
        "            Jv = np.matrix(np.cross(Jw.T,d_(i).T).T, dtype = 'float')\n",
        "        \n",
        "        Ji = np.concatenate((Jv, Jw))\n",
        "        \n",
        "        if len(J) == 0:\n",
        "            J = Ji\n",
        "        else:\n",
        "            J = np.concatenate((J,Ji), axis = 1)\n",
        "\n",
        "        H = T[n]\n",
        "\n",
        "    return H, J\n",
        "\n",
        "def PUMA_invkin(p, dimensions):\n",
        "  l1, l2, l3 = dimensions\n",
        "\n",
        "  #position of end point\n",
        "  x, y, z = np.array(p)\n",
        "\n",
        "  #Inverse kinematics implementation\n",
        "  theta1 = np.arctan(y/x)\n",
        "  D = (x**2 + y**2 + (z - l1)**2  - l2**2 - l3**2)/(2*l2*l3)\n",
        "  theta3 = np.arccos(D)\n",
        "  theta2 = np.arctan((z - l1)/np.sqrt(x**2 + y**2)) - np.arctan(l3*np.sin(theta3)/(l2 + l3*np.cos(theta3)))\n",
        "\n",
        "  return theta1, theta2, theta3\n",
        "  \n",
        "def PUMA_forwkin_and_J(q, dimensions):\n",
        "  q1, q2, q3 = q\n",
        "  l1, l2, l3 = dimensions\n",
        "  \n",
        "  Dh = np.matrix([[q1, l1, 0, -np.pi/2],[q2 , 0, -l2, 0],[q3 , 0, -l3, 0]])\n",
        "  H, J = DH2HnJ(Dh,[])\n",
        "  #print(J)\n",
        "\n",
        "  return H[0, -1], H[1, -1], H[2, -1], J\n",
        "\n",
        "def PUMA_Dmat(m, l):\n",
        "  m1, m2, m3 = m\n",
        "  l1, l2, l3 = l\n",
        "  q1 = sym.Symbol('q1')\n",
        "  q2 = sym.Symbol('q2')\n",
        "  q3 = sym.Symbol('q3')\n",
        "  q1_dot = sym.Symbol('q1_dot')\n",
        "  q2_dot = sym.Symbol('q2_dot')\n",
        "  q3_dot = sym.Symbol('q3_dot')\n",
        "  q1_dotdot = sym.Symbol('q1_dotdot')\n",
        "  q2_dotdot = sym.Symbol('q2_dotdot')\n",
        "  q3_dotdot = sym.Symbol('q3_dotdot')\n",
        "\n",
        "  Jvc1 = np.array([[0, 0, 0],\n",
        "                   [0, 0, 0], \n",
        "                   [0, 0, 0]])\n",
        "  Jw1 = np.array([[0, 0, 0], \n",
        "                  [0, 0, 0],\n",
        "                  [1, 0, 0]])\n",
        "  \n",
        "  Jvc2 = np.array([[(-l2/2)*sym.sin(q1)*sym.cos(q2), (-l2/2)*sym.cos(q1)*sym.sin(q2), 0],\n",
        "          [(l2/2)*sym.cos(q1)*sym.cos(q2), (-l2/2)*sym.sin(q1)*sym.sin(q2), 0],\n",
        "          [0, (l2/2)*sym.cos(q2), 0]])\n",
        "  Jw2 = np.array([[0, 0, 0],\n",
        "         [0, 1, 0],\n",
        "         [1, 0, 0]])\n",
        "  \n",
        "  Jvc3 = np.array([[-l2*sym.sin(q1)*sym.cos(q2) - (l3/2)*sym.sin(q1)*sym.cos(q3 + q2), -l2*sym.cos(q1)*sym.sin(q2) - (l3/2)*sym.sin(q3 + q2)*sym.cos(q1), (-l3/2)*sym.sin(q3 + q2)*sym.cos(q1)],\n",
        "                  [l2*sym.cos(q1)*sym.cos(q2) + (l3/2)*sym.cos(q1)*sym.cos(q3 + q2), -l2*sym.sin(q1)*sym.sin(q2) - (l3/2)*sym.sin(q3 + q2)*sym.sin(q1), (-l3/2)*sym.sin(q3 + q2)*sym.sin(q1)],\n",
        "                  [0, l2*sym.cos(q2) + (l3/2)*sym.cos(q2+q3), (l3/2)*sym.cos(q2+q3)]])\n",
        "  Jw3 = np.array([[0, 0, 0],\n",
        "         [0, 1, 1],\n",
        "         [1, 0, 0]])\n",
        "  \n",
        "  D = m1*Jvc1.T*Jvc1 + m2*Jvc2.T*Jvc2 + m3*Jvc3.T*Jvc3 #+ Jw1.T*R1*I1*R1.T*Jw1  + Jw2.T*R2*I2*R2.T*Jw2 + Jw3.T*R3*I3*R3.T*Jw3\n",
        "\n",
        "  return D\n",
        "\n",
        "def PUMA_dynamic_equation(m, l):\n",
        "  l1, l2, l3 = l\n",
        "  m1, m2, m3 = m\n",
        "  q1 = sym.Symbol('q1')\n",
        "  q2 = sym.Symbol('q2')\n",
        "  q3 = sym.Symbol('q3')\n",
        "  q = np.array([[q1], [q2], [q3]])\n",
        "  q1_dot = sym.Symbol('q1_dot')\n",
        "  q2_dot = sym.Symbol('q2_dot')\n",
        "  q3_dot = sym.Symbol('q3_dot')\n",
        "  q_dot = np.array([[q1_dot], [q2_dot], [q3_dot]])\n",
        "  q1_dotdot = sym.Symbol('q1_dotdot')\n",
        "  q2_dotdot = sym.Symbol('q2_dotdot')\n",
        "  q3_dotdot = sym.Symbol('q3_dotdot')\n",
        "  q_dotdot = np.array([[q1_dotdot], [q2_dotdot], [q3_dotdot]])\n",
        "  g = 9.8\n",
        "\n",
        "  n = 3\n",
        "\n",
        "  D = PUMA_Dmat(m, l)\n",
        "  \n",
        "  V = m1*g*l1/2 + m2*g*(l1 + ( l2*sym.sin(q2))/2) + m3*g*(l1 + l2*sym.sin(q2) + (l3/2)*sym.sin(q2 + q3))\n",
        "\n",
        "  G = np.array([[sym.diff(V, q1)],\n",
        "                [sym.diff(V, q2)],\n",
        "                [sym.diff(V, q3)]])\n",
        "  \n",
        "  C = [0]*n\n",
        "\n",
        "  for k in range(n):\n",
        "    for j in range(n):\n",
        "      for i in range(n):\n",
        "        C[k]  = (sym.diff(D[k][j], q[i][0]) + sym.diff(D[k][i], q[j][0]) - sym.diff(D[i][j], q[k][0]))\n",
        "        C[k] = C[k]/2\n",
        "\n",
        "  C = np.array(C)\n",
        "\n",
        "  dynamic_eqn = sym.Array(D@q_dotdot + C@q_dot + G) #np.matmul(D,q_dotdot) + np.matmul(C,q_dot) + G\n",
        "  return dynamic_eqn, D, C, G\n",
        "\n",
        "def PUMA_invdynamics(m, l, q, q_dot, torques):\n",
        "  q1, q2, q3 = q\n",
        "  q1_dot, q2_dot, q3_dot = q_dot\n",
        "\n",
        "  eqn, D, C, G = PUMA_dynamic_equation(m, l)\n",
        "\n",
        "  eqn_numbers = eqn.subs([('q1',q1), ('q2',q2), ('q3',q3), ('q1_dot', q1_dot), ('q2_dot',q2_dot), ('q3_dot',q3_dot)])\n",
        "  #print(eqn_numbers)\n",
        "\n",
        "  D_numbers = np.array([[eqn_numbers[0,0].coeff('q1_dotdot'), eqn_numbers[0,0].coeff('q2_dotdot'), eqn_numbers[0,0].coeff('q3_dotdot')],\n",
        "                [eqn_numbers[1,0].coeff('q1_dotdot'), eqn_numbers[1,0].coeff('q2_dotdot'), eqn_numbers[1,0].coeff('q3_dotdot')],\n",
        "                [eqn_numbers[2,0].coeff('q1_dotdot'), eqn_numbers[2,0].coeff('q2_dotdot'), eqn_numbers[2,0].coeff('q3_dotdot')]], dtype = 'float')\n",
        "  #print(D_numbers)\n",
        "  \n",
        " # M = C@q_dot + G\n",
        " # K = eqn_numbers - D@np.array([['q1_dotdot'],['q2_dotdot'],['q3_dotdot']])\n",
        "  K = np.array([[((eqn_numbers[0,0].coeff('q1_dotdot', 0)).coeff('q2_dotdot', 0)).coeff('q3_dotdot', 0)],\n",
        "                [((eqn_numbers[1,0].coeff('q1_dotdot', 0)).coeff('q2_dotdot', 0)).coeff('q3_dotdot', 0)],\n",
        "                [((eqn_numbers[2,0].coeff('q1_dotdot', 0)).coeff('q2_dotdot', 0)).coeff('q3_dotdot', 0)]])\n",
        "  #print(K)\n",
        "  D_inv = np.linalg.inv(D_numbers)\n",
        "  M = np.array([[torques[0] - K[0,0]],\n",
        "                [torques[1] - K[1,0]],\n",
        "                [torques[2] - K[2,0]]])\n",
        "  #print(D_inv)\n",
        "  #print(M)\n",
        "  q_dotdot = np.array(D_inv@M, dtype = 'float')\n",
        "  #print(q_dotdot)\n",
        "  return [q_dotdot[0,0], q_dotdot[1,0], q_dotdot[2,0]]\n"
      ],
      "execution_count": 24,
      "outputs": []
    },
    {
      "cell_type": "code",
      "metadata": {
        "colab": {
          "base_uri": "https://localhost:8080/",
          "height": 863
        },
        "id": "WfJejqzm33fM",
        "outputId": "ec3113c0-69db-42e2-d8a0-1b070bb90444"
      },
      "source": [
        "m1 = m2 = m3 = 0.8\n",
        "m = [m1, m2, m3]\n",
        "l1 = l2 = l3 = 0.25\n",
        "l = [l1, l2, l3]\n",
        "q1_all = []\n",
        "q2_all = []\n",
        "q3_all = []\n",
        "v1_all = []\n",
        "v2_all = []\n",
        "v3_all = []\n",
        "a1_all = []\n",
        "a2_all = []\n",
        "a3_all = []\n",
        "#q\n",
        "#q_dot\n",
        "#q_dotdot\n",
        "#pos = [0]*3\n",
        "\n",
        "#PUMA_invdynamics([2,2,2], [0.5,0.3,0.3], [0.4,0.4,0.4],[0.1,0.1,0.1], [3,4,5])\n",
        "#pos[0], pos[1], pos[2], J = PUMA_forwkin_and_J([0.45, 0.075, 0.1], l)\n",
        "#print(pos, J)\n",
        "#q1, q2, q3 = PUMA_invkin([position_array_x[1], position_array_y[1], position_array_z[1]], l)\n",
        "\n",
        "for i in range(len(position_array_x)):\n",
        "  q1, q2, q3 = PUMA_invkin([position_array_x[i], position_array_y[i], position_array_z[i]], l)\n",
        "  #Joint angles\n",
        "  q1_all.append(q1)\n",
        "  q2_all.append(q2)\n",
        "  q3_all.append(q3)\n",
        "  q = [q1, q2, q3]\n",
        "\n",
        "  #PUMA DH Matrix\n",
        "  Dh = np.matrix([[q1, l1, 0, -np.pi/2],[q2 , 0, -l2, 0],[q3 , 0, -l3, 0]])\n",
        "  H, J = DH2HnJ(Dh,[])\n",
        "  #print(J)\n",
        "\n",
        "  Jv = J[0:3, :]\n",
        "  #print(Jv, velocity_array_y[5])\n",
        "\n",
        "  v1, v2, v3 = np.linalg.pinv(Jv)@np.array([velocity_array_x[i], velocity_array_y[i], velocity_array_z[i]])\n",
        "  #print(v1[0, 0], v2[0, 0], v3[0, 0])\n",
        "  #Joint velocities\n",
        "  v1_all.append(v1[0, 0])\n",
        "  v2_all.append(v2[0, 0])\n",
        "  v3_all.append(v3[0, 0])\n",
        "\n",
        "  #Joint accelerations\n",
        "  #Jv_inv*(ee_acc - dJv/del_t*ee_vel)\n",
        "  if i!= (len(position_array_x) - 1):\n",
        "    q1_next, q2_next, q3_next = PUMA_invkin([position_array_x[i + 1], position_array_y[i + 1], position_array_z[i + 1]], l)\n",
        "    Dh_next = np.matrix([[q1_next, l1, 0, -np.pi/2],[q2_next , 0, -l2, 0],[q3_next, 0, -l3, 0]])\n",
        "    H_next, J_next = DH2HnJ(Dh_next,[])\n",
        "    Jv_next = J_next[0:3, :]\n",
        "    dt = time_vector[i + 1] - time_vector[i]\n",
        "\n",
        "    acc = np.linalg.pinv(Jv_next)@(np.array([acceleration_array_x[i], acceleration_array_y[i], acceleration_array_z[i]]) - ((Jv_next - Jv)/dt)@np.array([velocity_array_x[i], velocity_array_y[i], velocity_array_z[i]]))\n",
        "    a1_all.append(acc[0, 0])\n",
        "    a2_all.append(acc[1, 0])\n",
        "    a3_all.append(acc[2, 0])\n",
        "\n",
        "  #a1, a2, a3 = PUMA_invdynamics(m, l, [q1, q2, q3], [v1, v2, v3], [1, 1, 1])\n",
        "\n",
        "  #a1_all.append(a1)\n",
        "  #a2_all.append(a2)\n",
        "  #a3_all.append(a3)\n",
        "\n",
        "a1_all.append(acc[0, 0])\n",
        "a2_all.append(acc[1, 0])\n",
        "a3_all.append(acc[2, 0])\n",
        "\n",
        "plot_pos_vs_time(time_vector, q1_all, q2_all, q3_all, 'q1', 'q2', 'q3', 'Joint angles vs Time')\n",
        "plot_pos_vs_time(time_vector, v1_all, v2_all, v3_all, 'v1', 'v2', 'v3', 'Joint velocities vs Time')\n",
        "plot_pos_vs_time(time_vector, a1_all, a2_all, a3_all, 'a1', 'a2', 'a3', 'Joint accelerations vs Time')"
      ],
      "execution_count": 25,
      "outputs": [
        {
          "output_type": "stream",
          "name": "stderr",
          "text": [
            "/usr/local/lib/python3.7/dist-packages/numpy/matrixlib/defmatrix.py:145: VisibleDeprecationWarning: Creating an ndarray from ragged nested sequences (which is a list-or-tuple of lists-or-tuples-or ndarrays with different lengths or shapes) is deprecated. If you meant to do this, you must specify 'dtype=object' when creating the ndarray\n",
            "  arr = N.array(data, dtype=dtype, copy=copy)\n"
          ]
        },
        {
          "output_type": "display_data",
          "data": {
            "image/png": "[encoded data removed]",
            "text/plain": [
              "<Figure size 432x288 with 1 Axes>"
            ]
          },
          "metadata": {
            "needs_background": "light"
          }
        },
        {
          "output_type": "display_data",
          "data": {
            "image/png": "[encoded data removed]",
            "text/plain": [
              "<Figure size 432x288 with 1 Axes>"
            ]
          },
          "metadata": {
            "needs_background": "light"
          }
        },
        {
          "output_type": "display_data",
          "data": {
            "image/png": "[encoded data removed]",
            "text/plain": [
              "<Figure size 432x288 with 1 Axes>"
            ]
          },
          "metadata": {
            "needs_background": "light"
          }
        }
      ]
    },
    {
      "cell_type": "markdown",
      "metadata": {
        "id": "Cn22EgymdXdi"
      },
      "source": [
        "# Question 3a\n",
        "Implement the four controllers listed below with the above desired trajectories and compare the results by plotting the desired x-coordinate with respect to time along with the actual x-coordinate of end-effector with respect to time for all four control choice (all superimposed on the same graph). Please label and provide legend for the plots. Show similar plots for y-coordinate of the end-effector with respect to time, and similarly x-y coordinates on x-y plane.\\\n",
        "a. PD control that might yield a small (but non-zero) steady-state error and a damping ratio close to 1.\\\n",
        "b. Same PD control along with a feedforward control using motor dynamics (equation 7.6.6 in the textbook).\\\n",
        "c. Same PD control along with a feedforward disturbance cancellation using computed torque method (equation 7.6.9 in the textbook).\\\n",
        "d. Multivariable control using the approach in section 8.3 (inverse dynamics)."
      ]
    },
    {
      "cell_type": "code",
      "metadata": {
        "id": "u3hJr5cdXgdj"
      },
      "source": [
        "#Ongoing | Code is not complete yet. "
      ],
      "execution_count": 25,
      "outputs": []
    },
    {
      "cell_type": "code",
      "metadata": {
        "id": "ND9JqBO8XanQ"
      },
      "source": [
        "#Code Credits: Videh Patel \n",
        "\n",
        "def DH2HnJ(Hmat, prismatic=[]):\n",
        "    #Hmat is the DH parameter matrix\n",
        "    #prismatic is an array of the joints that are prismatic: Joint corresponding to qi is ith joint\n",
        "    #All revolute and prismatic axes are assumed to be aligned with the respective z axis\n",
        "\n",
        "    def d_(k):\n",
        "        #Returns position vector of ee wrt k-frame in o-frame basis\n",
        "        return (T[k][:3,:3])@(np.linalg.inv(T[k])@T[n]@(np.matrix([[0],[0],[0],[1]])))[:3,0]\n",
        "        \n",
        "    n = len(Hmat)\n",
        "    T = [np.matrix([[1,0,0,0],[0,1,0,0],[0,0,1,0],[0,0,0,1]])]  #Array of all absolute Homogeneous Transformations : Has T0_0 at the start (Identity matrix)\n",
        "    J = []  #Manipulator Jacobian\n",
        "    for params in Hmat:\n",
        "        theta, d, a, alpha = np.array(params)[0]\n",
        "        Ti = np.matrix([ [ np.cos(theta), -np.sin(theta)*np.cos(alpha), np.sin(theta)*np.sin(alpha), a*np.cos(theta)],\\\n",
        "                         [ np.sin(theta), np.cos(theta)*np.cos(alpha), -np.cos(theta)*np.sin(alpha), a*np.sin(theta)],\\\n",
        "                         [ 0            , np.sin(alpha)               , np.cos(alpha)              , d              ],\\\n",
        "                         [ 0            , 0                           , 0                          ,1              ] ])\n",
        "        \n",
        "\n",
        "        T.append(T[-1]@Ti)\n",
        "\n",
        "    for i in range(n):\n",
        "        if (i+1) in prismatic:\n",
        "            Jv = T[i][:3,:3]@np.matrix([0,0,1]).T\n",
        "            Jw = np.matrix([0,0,0]).T\n",
        "        else: #Revolute\n",
        "            Jw = T[i][:3,:3]@np.matrix([0,0,1]).T\n",
        "            Jv = np.matrix(np.cross(Jw.T,d_(i).T).T)\n",
        "        \n",
        "        Ji = np.concatenate((Jv, Jw))\n",
        "        \n",
        "        if len(J) == 0:\n",
        "            J = Ji\n",
        "        else:\n",
        "            J = np.concatenate((J,Ji), axis = 1)\n",
        "\n",
        "        H = T[n]\n",
        "\n",
        "    return H"
      ],
      "execution_count": 11,
      "outputs": []
    },
    {
      "cell_type": "code",
      "metadata": {
        "id": "_0l8hxqQXZyw"
      },
      "source": [
        "def PUMA_invkin(p, dimensions):\n",
        "  l1, l2, l3 = dimensions\n",
        "  x, y, z = p\n",
        "\n",
        "  theta1 = np.arctan(y/x)\n",
        "  D = (x**2 + y**2 + (z - l1)**2  - l2**2 - l3**2)/(2*l2*l3)\n",
        "  theta3 = np.arccos(D)\n",
        "  theta2 = np.arctan((z - l1)/np.sqrt(x**2 + y**2)) - np.arctan(l3*np.sin(theta3)/(l2 + l3*np.cos(theta3)))\n",
        "\n",
        "  return theta1, theta2, theta3\n",
        "  \n",
        "def PUMA_forwkin(q, dimensions):\n",
        "  q1, q2, q3 = q\n",
        "  l1, l2, l3 = dimensions\n",
        "  \n",
        "  Dh = np.matrix([[q1, l1, 0, -np.pi/2],[q2 , 0, l2, 0],[q3 , 0, l3, 0]])\n",
        "  H = DH2HnJ(Dh,[])\n",
        "\n",
        "  return H[0, -1], H[1, -1], H[2, -1]"
      ],
      "execution_count": 12,
      "outputs": []
    },
    {
      "cell_type": "code",
      "metadata": {
        "id": "3qI6FCV9XTTy"
      },
      "source": [
        "def PUMA_Dmat(m, l):\n",
        "  m1, m2, m3 = m\n",
        "  l1, l2, l3 = l\n",
        "  q1 = sym.Symbol('q1')\n",
        "  q2 = sym.Symbol('q2')\n",
        "  q3 = sym.Symbol('q3')\n",
        "  q1_dot = sym.Symbol('q1_dot')\n",
        "  q2_dot = sym.Symbol('q2_dot')\n",
        "  q3_dot = sym.Symbol('q3_dot')\n",
        "  q1_dotdot = sym.Symbol('q1_dotdot')\n",
        "  q2_dotdot = sym.Symbol('q2_dotdot')\n",
        "  q3_dotdot = sym.Symbol('q3_dotdot')\n",
        "\n",
        "  Jvc1 = np.array([[0, 0, 0],\n",
        "                   [0, 0, 0], \n",
        "                   [0, 0, 0]])\n",
        "  Jw1 = np.array([[0, 0, 0], \n",
        "                  [0, 0, 0],\n",
        "                  [1, 0, 0]])\n",
        "  \n",
        "  Jvc2 = np.array([[(-l2/2)*sym.sin(q1)*sym.cos(q2), (-l2/2)*sym.cos(q1)*sym.sin(q2), 0],\n",
        "          [(l2/2)*sym.cos(q1)*sym.cos(q2), (-l2/2)*sym.sin(q1)*sym.sin(q2), 0],\n",
        "          [0, (l2/2)*sym.cos(q2), 0]])\n",
        "  Jw2 = np.array([[0, 0, 0],\n",
        "         [0, 1, 0],\n",
        "         [1, 0, 0]])\n",
        "  \n",
        "  Jvc3 = np.array([[-l2*sym.sin(q1)*sym.cos(q2) - (l3/2)*sym.sin(q1)*sym.cos(q3 + q2), -l2*sym.cos(q1)*sym.sin(q2) - (l3/2)*sym.sin(q3 + q2)*sym.cos(q1), (-l3/2)*sym.sin(q3 + q2)*sym.cos(q1)],\n",
        "                  [l2*sym.cos(q1)*sym.cos(q2) + (l3/2)*sym.cos(q1)*sym.cos(q3 + q2), -l2*sym.sin(q1)*sym.sin(q2) - (l3/2)*sym.sin(q3 + q2)*sym.sin(q1), (-l3/2)*sym.sin(q3 + q2)*sym.sin(q1)],\n",
        "                  [0, l2*sym.cos(q2) + (l3/2)*sym.cos(q2+q3), (l3/2)*sym.cos(q2+q3)]])\n",
        "  Jw3 = np.array([[0, 0, 0],\n",
        "         [0, 1, 1],\n",
        "         [1, 0, 0]])\n",
        "  \n",
        "  D = m1*Jvc1.T*Jvc1 + m2*Jvc2.T*Jvc2 + m3*Jvc3.T*Jvc3 #+ Jw1.T*R1*I1*R1.T*Jw1  + Jw2.T*R2*I2*R2.T*Jw2 + Jw3.T*R3*I3*R3.T*Jw3\n",
        "\n",
        "  return D"
      ],
      "execution_count": 13,
      "outputs": []
    },
    {
      "cell_type": "code",
      "metadata": {
        "id": "GVbRVMV5W_tq"
      },
      "source": [
        "def PUMA_dynamic_equation(m, l):\n",
        "  l1, l2, l3 = l\n",
        "  m1, m2, m3 = m\n",
        "  q1 = sym.Symbol('q1')\n",
        "  q2 = sym.Symbol('q2')\n",
        "  q3 = sym.Symbol('q3')\n",
        "  q = np.array([[q1], [q2], [q3]])\n",
        "  q1_dot = sym.Symbol('q1_dot')\n",
        "  q2_dot = sym.Symbol('q2_dot')\n",
        "  q3_dot = sym.Symbol('q3_dot')\n",
        "  q_dot = np.array([[q1_dot], [q2_dot], [q3_dot]])\n",
        "  q1_dotdot = sym.Symbol('q1_dotdot')\n",
        "  q2_dotdot = sym.Symbol('q2_dotdot')\n",
        "  q3_dotdot = sym.Symbol('q3_dotdot')\n",
        "  q_dotdot = np.array([[q1_dotdot], [q2_dotdot], [q3_dotdot]])\n",
        "  g = 9.8\n",
        "\n",
        "  n = 3\n",
        "\n",
        "  D = PUMA_Dmat(m, l)\n",
        "  \n",
        "  V = m1*g*l1/2 + m2*g*(l1 + ( l2*sym.sin(q2))/2) + m3*g*(l1 + l2*sym.sin(q2) + (l3/2)*sym.sin(q2 + q3))\n",
        "\n",
        "  G = np.array([[sym.diff(V, q1)],\n",
        "                [sym.diff(V, q2)],\n",
        "                [sym.diff(V, q3)]])\n",
        "  \n",
        "  C = [0]*n\n",
        "\n",
        "  for k in range(n):\n",
        "    for j in range(n):\n",
        "      for i in range(n):\n",
        "        C[k]  = (sym.diff(D[k][j], q[i][0]) + sym.diff(D[k][i], q[j][0]) - sym.diff(D[i][j], q[k][0]))\n",
        "        C[k] = C[k]/2\n",
        "\n",
        "  C = np.array(C)\n",
        "\n",
        "  dynamic_eqn = sym.Array(D@q_dotdot + C@q_dot + G) #np.matmul(D,q_dotdot) + np.matmul(C,q_dot) + G\n",
        "  return dynamic_eqn, D, C, G\n",
        "\n",
        "eqn, D, C, G = PUMA_dynamic_equation([2,2,2],[0.5,0.3,0.3])"
      ],
      "execution_count": 14,
      "outputs": []
    },
    {
      "cell_type": "code",
      "metadata": {
        "id": "563hDyKYXB2I"
      },
      "source": [
        "def PUMA_invdynamics(m, l, q, q_dot, torques):\n",
        "  q1, q2, q3 = q\n",
        "  q1_dot, q2_dot, q3_dot = q_dot\n",
        "\n",
        "  eqn, D, C, G = PUMA_dynamic_equation(m, l)\n",
        "\n",
        "  eqn_numbers = eqn.subs([('q1',q1), ('q2',q2), ('q3',q3), ('q1_dot', q1_dot), ('q2_dot',q2_dot), ('q3_dot',q3_dot)])\n",
        "  #print(eqn_numbers)\n",
        "\n",
        "  D_numbers = np.array([[eqn_numbers[0,0].coeff('q1_dotdot'), eqn_numbers[0,0].coeff('q2_dotdot'), eqn_numbers[0,0].coeff('q3_dotdot')],\n",
        "                [eqn_numbers[1,0].coeff('q1_dotdot'), eqn_numbers[1,0].coeff('q2_dotdot'), eqn_numbers[1,0].coeff('q3_dotdot')],\n",
        "                [eqn_numbers[2,0].coeff('q1_dotdot'), eqn_numbers[2,0].coeff('q2_dotdot'), eqn_numbers[2,0].coeff('q3_dotdot')]], dtype = 'float')\n",
        "  #print(D_numbers)\n",
        "  \n",
        " # M = C@q_dot + G\n",
        " # K = eqn_numbers - D@np.array([['q1_dotdot'],['q2_dotdot'],['q3_dotdot']])\n",
        "  K = np.array([[((eqn_numbers[0,0].coeff('q1_dotdot', 0)).coeff('q2_dotdot', 0)).coeff('q3_dotdot', 0)],\n",
        "                [((eqn_numbers[1,0].coeff('q1_dotdot', 0)).coeff('q2_dotdot', 0)).coeff('q3_dotdot', 0)],\n",
        "                [((eqn_numbers[2,0].coeff('q1_dotdot', 0)).coeff('q2_dotdot', 0)).coeff('q3_dotdot', 0)]])\n",
        "  #print(K)\n",
        "  D_inv = np.linalg.inv(D_numbers)\n",
        "  M = np.array([[torques[0] - K[0,0]],\n",
        "                [torques[1] - K[1,0]],\n",
        "                [torques[2] - K[2,0]]])\n",
        "  #print(D_inv)\n",
        "  #print(M)\n",
        "  q_dotdot = np.array(D_inv@M, dtype = 'float')\n",
        "  #print(q_dotdot)\n",
        "  return [q_dotdot[0,0], q_dotdot[1,0], q_dotdot[2,0]]"
      ],
      "execution_count": 15,
      "outputs": []
    },
    {
      "cell_type": "code",
      "metadata": {
        "id": "6zW2duy7W3fG"
      },
      "source": [
        "def dummy_PUMA_invdynamics(t, y):\n",
        "  #m = [2, 2, 2]\n",
        "  #l = [0.5, 0.3, 0.3]\n",
        "  q1, q2, q3 = y[0], y[2], y[4]\n",
        "  q1_dot, q2_dot, q3_dot = y[1], y[3], y[5]\n",
        "\n",
        "  eqn, D, C, G = PUMA_dynamic_equation(m, l)\n",
        "\n",
        "  eqn_numbers = eqn.subs([('q1',q1), ('q2',q2), ('q3',q3), ('q1_dot', q1_dot), ('q2_dot',q2_dot), ('q3_dot',q3_dot)])\n",
        "  #print(eqn_numbers)\n",
        "\n",
        "  D_numbers = np.array([[eqn_numbers[0,0].coeff('q1_dotdot'), eqn_numbers[0,0].coeff('q2_dotdot'), eqn_numbers[0,0].coeff('q3_dotdot')],\n",
        "                [eqn_numbers[1,0].coeff('q1_dotdot'), eqn_numbers[1,0].coeff('q2_dotdot'), eqn_numbers[1,0].coeff('q3_dotdot')],\n",
        "                [eqn_numbers[2,0].coeff('q1_dotdot'), eqn_numbers[2,0].coeff('q2_dotdot'), eqn_numbers[2,0].coeff('q3_dotdot')]], dtype = 'float')\n",
        "  #print(D_numbers)\n",
        "  \n",
        " # M = C@q_dot + G\n",
        " # K = eqn_numbers - D@np.array([['q1_dotdot'],['q2_dotdot'],['q3_dotdot']])\n",
        "  K = np.array([[((eqn_numbers[0,0].coeff('q1_dotdot', 0)).coeff('q2_dotdot', 0)).coeff('q3_dotdot', 0)],\n",
        "                [((eqn_numbers[1,0].coeff('q1_dotdot', 0)).coeff('q2_dotdot', 0)).coeff('q3_dotdot', 0)],\n",
        "                [((eqn_numbers[2,0].coeff('q1_dotdot', 0)).coeff('q2_dotdot', 0)).coeff('q3_dotdot', 0)]])\n",
        "  #print(K)\n",
        "  D_inv = np.linalg.inv(D_numbers)\n",
        "  M = np.array([[torques[0] - K[0,0]],\n",
        "                [torques[1] - K[1,0]],\n",
        "                [torques[2] - K[2,0]]])\n",
        "  #print(D_inv)\n",
        "  #print(M)\n",
        "  q_dotdot = np.array(D_inv@M, dtype = 'float')\n",
        "  #print(q_dotdot)\n",
        "  return [q_dot[0], q_dotdot[0,0], q_dot[1], q_dotdot[1,0], q_dot[2], q_dotdot[2,0]]\n"
      ],
      "execution_count": 16,
      "outputs": []
    },
    {
      "cell_type": "code",
      "metadata": {
        "id": "2E-W9T51686G",
        "colab": {
          "base_uri": "https://localhost:8080/",
          "height": 380
        },
        "outputId": "2d19c88c-20f4-4dfb-b695-2326029c0ecb"
      },
      "source": [
        "m1 = m2 = m3 = 0.8\n",
        "m = [m1, m2, m3]\n",
        "l1 = l2 = l3 = 0.25\n",
        "l = [l1, l2, l3]\n",
        "A = [0.3, 0.3, 0.3]\n",
        "B = [0.2 , 0.3, 0.4]\n",
        "\n",
        "q1_A, q2_A, q3_A = PUMA_invkin(A, l)\n",
        "q1_B, q2_B, q3_B = PUMA_invkin(B, l)\n",
        "\n",
        "q = [q1_A, q2_A, q3_A]\n",
        "qd = [q1_B, q2_B, q3_B]\n",
        "print('q = ', q)\n",
        "print('qd = ', qd)\n",
        "\n",
        "q_dot = [0, 0, 0]\n",
        "\n",
        "kp = 100\n",
        "ki = 50\n",
        "\n",
        "ode_eqn = ode(dummy_PUMA_invdynamics).set_integrator('vode', nsteps=5, method='bdf')\n",
        "ode_eqn.set_initial_value([q1_A, 0, q2_A, 0, q3_A, 0], t = 0)\n",
        "print(ode_eqn.t)\n",
        "torques = np.array([0, 0, 0])\n",
        "del_t = 0\n",
        "loop = 0\n",
        "q_all1 = []\n",
        "q_all2 = []\n",
        "q_all3 = []\n",
        "q_dot_all1 = []\n",
        "q_dot_all2 = []\n",
        "q_dot_all3 = []\n",
        "time_list = []\n",
        "while (abs(qd[0] - q[0])>0.001) and (abs(qd[1] - q[1])>0.001) and (abs(qd[2] - q[2])>0.001):\n",
        "  t = time.time()\n",
        "  time_list.append(t)\n",
        "\n",
        "  E = np.array(qd) - np.array(q)\n",
        "  torques = kp*E + ki*E*del_t\n",
        "\n",
        "  q_dotdot = PUMA_invdynamics(m, l, q, q_dot, torques)\n",
        "  q[0], q_dot[0], q[1], q_dot[1], q[2], q_dot[2] = ode_eqn.integrate(ode_eqn.t+1) #DOUBT: ISME TIME KI ARGUMENT ME KYA DAALU?\n",
        "  #print(q, q_dot)\n",
        "  q_all1.append(q[0])\n",
        "  q_all2.append(q[1])\n",
        "  q_all3.append(q[2])\n",
        "  q_dot_all1.append(q_dot[0])\n",
        "  q_dot_all2.append(q_dot[1])\n",
        "  q_dot_all3.append(q_dot[2])\n",
        "  \n",
        "\n",
        "  del_t = time.time() - del_t\n",
        "  loop = loop + 1\n",
        "  if loop>100:\n",
        "    break\n",
        "\n",
        "plt.plot(time_list, q_all1, label = 'q1 vs time')\n",
        "plt.plot(time_list, q_all2, label = 'q2 vs time')\n",
        "plt.plot(time_list, q_all3, label = 'q3 vs time')\n",
        "plt.legend()"
      ],
      "execution_count": 17,
      "outputs": [
        {
          "output_type": "stream",
          "name": "stdout",
          "text": [
            "q =  [0.7853981633974483, -1.1138622802514613, 1.3467032344935257]\n",
            "qd =  [0.982793723247329, -1.1679944725267064, 1.7948894190962674]\n",
            "0\n"
          ]
        },
        {
          "output_type": "stream",
          "name": "stderr",
          "text": [
            "/usr/local/lib/python3.7/dist-packages/scipy/integrate/_ode.py:1009: UserWarning: vode: Excess work done on this call. (Perhaps wrong MF.)\n",
            "  self.messages.get(istate, unexpected_istate_msg)))\n"
          ]
        },
        {
          "output_type": "execute_result",
          "data": {
            "text/plain": [
              "<matplotlib.legend.Legend at 0x7f9ba748e490>"
            ]
          },
          "metadata": {},
          "execution_count": 17
        },
        {
          "output_type": "display_data",
          "data": {
            "image/png": "[encoded data removed]",
            "text/plain": [
              "<Figure size 432x288 with 1 Axes>"
            ]
          },
          "metadata": {
            "needs_background": "light"
          }
        }
      ]
    },
    {
      "cell_type": "code",
      "metadata": {
        "id": "sP_6nrAvX9mq"
      },
      "source": [
        ""
      ],
      "execution_count": null,
      "outputs": []
    }
  ]
}