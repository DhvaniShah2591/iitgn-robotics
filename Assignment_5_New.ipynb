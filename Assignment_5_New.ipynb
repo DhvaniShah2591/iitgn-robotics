{
  "nbformat": 4,
  "nbformat_minor": 0,
  "metadata": {
    "colab": {
      "name": "Assignment 5 New.ipynb",
      "provenance": [],
      "collapsed_sections": []
    },
    "kernelspec": {
      "name": "python3",
      "display_name": "Python 3"
    },
    "language_info": {
      "name": "python"
    }
  },
  "cells": [
    {
      "cell_type": "code",
      "metadata": {
        "id": "tVLpdK4O1cHn"
      },
      "source": [
        "import numpy as np\n",
        "import sympy as sym\n",
        "import matplotlib.pyplot as plt\n",
        "import time\n",
        "from scipy.integrate  import ode, solve_ivp"
      ],
      "execution_count": 68,
      "outputs": []
    },
    {
      "cell_type": "code",
      "metadata": {
        "id": "6UlQFpTV6Xh_"
      },
      "source": [
        "#Code Credits: Videh Patel \n",
        "\n",
        "def DH2HnJ(Hmat, prismatic=[]):\n",
        "    #Hmat is the DH parameter matrix\n",
        "    #prismatic is an array of the joints that are prismatic: Joint corresponding to qi is ith joint\n",
        "    #All revolute and prismatic axes are assumed to be aligned with the respective z axis\n",
        "\n",
        "    def d_(k):\n",
        "        #Returns position vector of ee wrt k-frame in o-frame basis\n",
        "        return (T[k][:3,:3])@(np.linalg.inv(T[k])@T[n]@(np.matrix([[0],[0],[0],[1]])))[:3,0]\n",
        "        \n",
        "    n = len(Hmat)\n",
        "    T = [np.matrix([[1,0,0,0],[0,1,0,0],[0,0,1,0],[0,0,0,1]])]  #Array of all absolute Homogeneous Transformations : Has T0_0 at the start (Identity matrix)\n",
        "    J = []  #Manipulator Jacobian\n",
        "    for params in Hmat:\n",
        "        theta, d, a, alpha = np.array(params)[0]\n",
        "        Ti = np.matrix([ [ np.cos(theta), -np.sin(theta)*np.cos(alpha), np.sin(theta)*np.sin(alpha), a*np.cos(theta)],\\\n",
        "                         [ np.sin(theta), np.cos(theta)*np.cos(alpha), -np.cos(theta)*np.sin(alpha), a*np.sin(theta)],\\\n",
        "                         [ 0            , np.sin(alpha)               , np.cos(alpha)              , d              ],\\\n",
        "                         [ 0            , 0                           , 0                          ,1              ] ])\n",
        "        \n",
        "\n",
        "        T.append(T[-1]@Ti)\n",
        "\n",
        "    for i in range(n):\n",
        "        if (i+1) in prismatic:\n",
        "            Jv = T[i][:3,:3]@np.matrix([0,0,1]).T\n",
        "            Jw = np.matrix([0,0,0]).T\n",
        "        else: #Revolute\n",
        "            Jw = T[i][:3,:3]@np.matrix([0,0,1]).T\n",
        "            Jv = np.matrix(np.cross(Jw.T,d_(i).T).T)\n",
        "        \n",
        "        Ji = np.concatenate((Jv, Jw))\n",
        "        \n",
        "        if len(J) == 0:\n",
        "            J = Ji\n",
        "        else:\n",
        "            J = np.concatenate((J,Ji), axis = 1)\n",
        "\n",
        "        H = T[n]\n",
        "\n",
        "    return H"
      ],
      "execution_count": 2,
      "outputs": []
    },
    {
      "cell_type": "markdown",
      "metadata": {
        "id": "ACeJ1ylFdPYn"
      },
      "source": [
        "#Implementation of PUMA Dynamics and Control\n"
      ]
    },
    {
      "cell_type": "code",
      "metadata": {
        "id": "3nRq8Acy31YT"
      },
      "source": [
        "def PUMA_invkin(p, dimensions):\n",
        "  l1, l2, l3 = dimensions\n",
        "  x, y, z = p\n",
        "\n",
        "  theta1 = np.arctan(y/x)\n",
        "  D = (x**2 + y**2 + (z - l1)**2  - l2**2 - l3**2)/(2*l2*l3)\n",
        "  theta3 = np.arccos(D)\n",
        "  theta2 = np.arctan((z - l1)/np.sqrt(x**2 + y**2)) - np.arctan(l3*np.sin(theta3)/(l2 + l3*np.cos(theta3)))\n",
        "\n",
        "  return theta1, theta2, theta3\n",
        "  \n",
        "def PUMA_forwkin(q, dimensions):\n",
        "  q1, q2, q3 = q\n",
        "  l1, l2, l3 = dimensions\n",
        "  \n",
        "  Dh = np.matrix([[q1, l1, 0, -np.pi/2],[q2 , 0, l2, 0],[q3 , 0, l3, 0]])\n",
        "  H = DH2HnJ(Dh,[])\n",
        "\n",
        "  return H[0, -1], H[1, -1], H[2, -1]"
      ],
      "execution_count": 3,
      "outputs": []
    },
    {
      "cell_type": "code",
      "metadata": {
        "id": "TM9x9VoH4WQl"
      },
      "source": [
        "def PUMA_Dmat(m, l):\n",
        "  m1, m2, m3 = m\n",
        "  l1, l2, l3 = l\n",
        "  q1 = sym.Symbol('q1')\n",
        "  q2 = sym.Symbol('q2')\n",
        "  q3 = sym.Symbol('q3')\n",
        "  q1_dot = sym.Symbol('q1_dot')\n",
        "  q2_dot = sym.Symbol('q2_dot')\n",
        "  q3_dot = sym.Symbol('q3_dot')\n",
        "  q1_dotdot = sym.Symbol('q1_dotdot')\n",
        "  q2_dotdot = sym.Symbol('q2_dotdot')\n",
        "  q3_dotdot = sym.Symbol('q3_dotdot')\n",
        "\n",
        "  Jvc1 = np.array([[0, 0, 0],\n",
        "                   [0, 0, 0], \n",
        "                   [0, 0, 0]])\n",
        "  Jw1 = np.array([[0, 0, 0], \n",
        "                  [0, 0, 0],\n",
        "                  [1, 0, 0]])\n",
        "  \n",
        "  Jvc2 = np.array([[(-l2/2)*sym.sin(q1)*sym.cos(q2), (-l2/2)*sym.cos(q1)*sym.sin(q2), 0],\n",
        "          [(l2/2)*sym.cos(q1)*sym.cos(q2), (-l2/2)*sym.sin(q1)*sym.sin(q2), 0],\n",
        "          [0, (l2/2)*sym.cos(q2), 0]])\n",
        "  Jw2 = np.array([[0, 0, 0],\n",
        "         [0, 1, 0],\n",
        "         [1, 0, 0]])\n",
        "  \n",
        "  Jvc3 = np.array([[-l2*sym.sin(q1)*sym.cos(q2) - (l3/2)*sym.sin(q1)*sym.cos(q3 + q2), -l2*sym.cos(q1)*sym.sin(q2) - (l3/2)*sym.sin(q3 + q2)*sym.cos(q1), (-l3/2)*sym.sin(q3 + q2)*sym.cos(q1)],\n",
        "                  [l2*sym.cos(q1)*sym.cos(q2) + (l3/2)*sym.cos(q1)*sym.cos(q3 + q2), -l2*sym.sin(q1)*sym.sin(q2) - (l3/2)*sym.sin(q3 + q2)*sym.sin(q1), (-l3/2)*sym.sin(q3 + q2)*sym.sin(q1)],\n",
        "                  [0, l2*sym.cos(q2) + (l3/2)*sym.cos(q2+q3), (l3/2)*sym.cos(q2+q3)]])\n",
        "  Jw3 = np.array([[0, 0, 0],\n",
        "         [0, 1, 1],\n",
        "         [1, 0, 0]])\n",
        "  \n",
        "  D = m1*Jvc1.T*Jvc1 + m2*Jvc2.T*Jvc2 + m3*Jvc3.T*Jvc3 #+ Jw1.T*R1*I1*R1.T*Jw1  + Jw2.T*R2*I2*R2.T*Jw2 + Jw3.T*R3*I3*R3.T*Jw3\n",
        "\n",
        "  return D\n",
        "\n",
        "#print(PUMA_Dmat([2,2,2],[0.5,0.3,0.3]))"
      ],
      "execution_count": 4,
      "outputs": []
    },
    {
      "cell_type": "code",
      "metadata": {
        "id": "IxeJ7M4O4b5T"
      },
      "source": [
        "def PUMA_dynamic_equation(m, l):\n",
        "  l1, l2, l3 = l\n",
        "  m1, m2, m3 = m\n",
        "  q1 = sym.Symbol('q1')\n",
        "  q2 = sym.Symbol('q2')\n",
        "  q3 = sym.Symbol('q3')\n",
        "  q = np.array([[q1], [q2], [q3]])\n",
        "  q1_dot = sym.Symbol('q1_dot')\n",
        "  q2_dot = sym.Symbol('q2_dot')\n",
        "  q3_dot = sym.Symbol('q3_dot')\n",
        "  q_dot = np.array([[q1_dot], [q2_dot], [q3_dot]])\n",
        "  q1_dotdot = sym.Symbol('q1_dotdot')\n",
        "  q2_dotdot = sym.Symbol('q2_dotdot')\n",
        "  q3_dotdot = sym.Symbol('q3_dotdot')\n",
        "  q_dotdot = np.array([[q1_dotdot], [q2_dotdot], [q3_dotdot]])\n",
        "  g = 9.8\n",
        "\n",
        "  n = 3\n",
        "\n",
        "  D = PUMA_Dmat(m, l)\n",
        "  \n",
        "  V = m1*g*l1/2 + m2*g*(l1 + ( l2*sym.sin(q2))/2) + m3*g*(l1 + l2*sym.sin(q2) + (l3/2)*sym.sin(q2 + q3))\n",
        "\n",
        "  G = np.array([[sym.diff(V, q1)],\n",
        "                [sym.diff(V, q2)],\n",
        "                [sym.diff(V, q3)]])\n",
        "  \n",
        "  C = [0]*n\n",
        "\n",
        "  for k in range(n):\n",
        "    for j in range(n):\n",
        "      for i in range(n):\n",
        "        C[k]  = (sym.diff(D[k][j], q[i][0]) + sym.diff(D[k][i], q[j][0]) - sym.diff(D[i][j], q[k][0]))\n",
        "        C[k] = C[k]/2\n",
        "\n",
        "  C = np.array(C)\n",
        "\n",
        "  dynamic_eqn = sym.Array(D@q_dotdot + C@q_dot + G) #np.matmul(D,q_dotdot) + np.matmul(C,q_dot) + G\n",
        "  return dynamic_eqn, D, C, G\n",
        "\n",
        "#eqn, D, C, G = PUMA_dynamic_equation([2,2,2],[0.5,0.3,0.3])"
      ],
      "execution_count": 143,
      "outputs": []
    },
    {
      "cell_type": "code",
      "metadata": {
        "id": "XPWuUMMe-fwU"
      },
      "source": [
        "def PUMA_invdynamics(m, l, q, q_dot, torques):\n",
        "  q1, q2, q3 = q\n",
        "  q1_dot, q2_dot, q3_dot = q_dot\n",
        "\n",
        "  eqn, D, C, G = PUMA_dynamic_equation(m, l)\n",
        "\n",
        "  eqn_numbers = eqn.subs([('q1',q1), ('q2',q2), ('q3',q3), ('q1_dot', q1_dot), ('q2_dot',q2_dot), ('q3_dot',q3_dot)])\n",
        "  #print(eqn_numbers)\n",
        "\n",
        "  D_numbers = np.array([[eqn_numbers[0,0].coeff('q1_dotdot'), eqn_numbers[0,0].coeff('q2_dotdot'), eqn_numbers[0,0].coeff('q3_dotdot')],\n",
        "                [eqn_numbers[1,0].coeff('q1_dotdot'), eqn_numbers[1,0].coeff('q2_dotdot'), eqn_numbers[1,0].coeff('q3_dotdot')],\n",
        "                [eqn_numbers[2,0].coeff('q1_dotdot'), eqn_numbers[2,0].coeff('q2_dotdot'), eqn_numbers[2,0].coeff('q3_dotdot')]], dtype = 'float')\n",
        "  #print(D_numbers)\n",
        "  \n",
        " # M = C@q_dot + G\n",
        " # K = eqn_numbers - D@np.array([['q1_dotdot'],['q2_dotdot'],['q3_dotdot']])\n",
        "  K = np.array([[((eqn_numbers[0,0].coeff('q1_dotdot', 0)).coeff('q2_dotdot', 0)).coeff('q3_dotdot', 0)],\n",
        "                [((eqn_numbers[1,0].coeff('q1_dotdot', 0)).coeff('q2_dotdot', 0)).coeff('q3_dotdot', 0)],\n",
        "                [((eqn_numbers[2,0].coeff('q1_dotdot', 0)).coeff('q2_dotdot', 0)).coeff('q3_dotdot', 0)]])\n",
        "  #print(K)\n",
        "  D_inv = np.linalg.inv(D_numbers)\n",
        "  M = np.array([[torques[0] - K[0,0]],\n",
        "                [torques[1] - K[1,0]],\n",
        "                [torques[2] - K[2,0]]])\n",
        "  #print(D_inv)\n",
        "  #print(M)\n",
        "  q_dotdot = np.array(D_inv@M, dtype = 'float')\n",
        "  #print(q_dotdot)\n",
        "  return [q_dotdot[0,0], q_dotdot[1,0], q_dotdot[2,0]]\n",
        "\n",
        "#PUMA_invdynamics([2,2,2], [0.5,0.3,0.3], [0.4,0.4,0.4],[0.1,0.1,0.1], [3,4,5])"
      ],
      "execution_count": 142,
      "outputs": []
    },
    {
      "cell_type": "code",
      "metadata": {
        "id": "D443qlGnCXyZ"
      },
      "source": [
        "def dummy_PUMA_invdynamics(t, y):\n",
        "  #m = [2, 2, 2]\n",
        "  #l = [0.5, 0.3, 0.3]\n",
        "  q1, q2, q3 = y[0], y[2], y[4]\n",
        "  q1_dot, q2_dot, q3_dot = y[1], y[3], y[5]\n",
        "\n",
        "  eqn, D, C, G = PUMA_dynamic_equation(m, l)\n",
        "\n",
        "  eqn_numbers = eqn.subs([('q1',q1), ('q2',q2), ('q3',q3), ('q1_dot', q1_dot), ('q2_dot',q2_dot), ('q3_dot',q3_dot)])\n",
        "  #print(eqn_numbers)\n",
        "\n",
        "  D_numbers = np.array([[eqn_numbers[0,0].coeff('q1_dotdot'), eqn_numbers[0,0].coeff('q2_dotdot'), eqn_numbers[0,0].coeff('q3_dotdot')],\n",
        "                [eqn_numbers[1,0].coeff('q1_dotdot'), eqn_numbers[1,0].coeff('q2_dotdot'), eqn_numbers[1,0].coeff('q3_dotdot')],\n",
        "                [eqn_numbers[2,0].coeff('q1_dotdot'), eqn_numbers[2,0].coeff('q2_dotdot'), eqn_numbers[2,0].coeff('q3_dotdot')]], dtype = 'float')\n",
        "  #print(D_numbers)\n",
        "  \n",
        " # M = C@q_dot + G\n",
        " # K = eqn_numbers - D@np.array([['q1_dotdot'],['q2_dotdot'],['q3_dotdot']])\n",
        "  K = np.array([[((eqn_numbers[0,0].coeff('q1_dotdot', 0)).coeff('q2_dotdot', 0)).coeff('q3_dotdot', 0)],\n",
        "                [((eqn_numbers[1,0].coeff('q1_dotdot', 0)).coeff('q2_dotdot', 0)).coeff('q3_dotdot', 0)],\n",
        "                [((eqn_numbers[2,0].coeff('q1_dotdot', 0)).coeff('q2_dotdot', 0)).coeff('q3_dotdot', 0)]])\n",
        "  #print(K)\n",
        "  D_inv = np.linalg.inv(D_numbers)\n",
        "  M = np.array([[torques[0] - K[0,0]],\n",
        "                [torques[1] - K[1,0]],\n",
        "                [torques[2] - K[2,0]]])\n",
        "  #print(D_inv)\n",
        "  #print(M)\n",
        "  q_dotdot = np.array(D_inv@M, dtype = 'float')\n",
        "  #print(q_dotdot)\n",
        "  return [q_dot[0], q_dotdot[0,0], q_dot[1], q_dotdot[1,0], q_dot[2], q_dotdot[2,0]]\n"
      ],
      "execution_count": 36,
      "outputs": []
    },
    {
      "cell_type": "code",
      "metadata": {
        "id": "mfU2I--w3mt0",
        "colab": {
          "base_uri": "https://localhost:8080/",
          "height": 383
        },
        "outputId": "12ad2f48-e9bc-41d7-bd87-ee4a1260148c"
      },
      "source": [
        "#def PI_Control(A, B):\n",
        "l1, l2, l3 = 0.5, 0.3, 0.3\n",
        "m1, m2, m3 = 2, 2, 2\n",
        "A = [0.3, 0.3, 0.3]\n",
        "B = [0.2 , 0.3, 0.4]\n",
        "l = [l1, l2, l3]\n",
        "m = [m1, m2, m3]\n",
        "\n",
        "q1_A, q2_A, q3_A = PUMA_invkin(A, l)\n",
        "q1_B, q2_B, q3_B = PUMA_invkin(B, l)\n",
        "\n",
        "q = [q1_A, q2_A, q3_A]\n",
        "qd = [q1_B, q2_B, q3_B]\n",
        "print('q = ', q)\n",
        "print('qd = ', qd)\n",
        "\n",
        "q_dot = [0, 0, 0]\n",
        "\n",
        "kp = 100\n",
        "ki = 50\n",
        "\n",
        "ode_eqn = ode(dummy_PUMA_invdynamics).set_integrator('vode', nsteps=5, method='bdf')\n",
        "ode_eqn.set_initial_value([q1_A, 0, q2_A, 0, q3_A, 0], t = 0)\n",
        "print(ode_eqn.t)\n",
        "torques = np.array([0, 0, 0])\n",
        "del_t = 0\n",
        "loop = 0\n",
        "q_all1 = []\n",
        "q_all2 = []\n",
        "q_all3 = []\n",
        "q_dot_all1 = []\n",
        "q_dot_all2 = []\n",
        "q_dot_all3 = []\n",
        "time_list = []\n",
        "while (abs(qd[0] - q[0])>0.001) and (abs(qd[1] - q[1])>0.001) and (abs(qd[2] - q[2])>0.001):\n",
        "  t = time.time()\n",
        "  time_list.append(t)\n",
        "\n",
        "  E = np.array(qd) - np.array(q)\n",
        "  torques = kp*E + ki*E*del_t\n",
        "\n",
        "  q_dotdot = PUMA_invdynamics(m, l, q, q_dot, torques)\n",
        "  q[0], q_dot[0], q[1], q_dot[1], q[2], q_dot[2] = ode_eqn.integrate(ode_eqn.t+1) #DOUBT: ISME TIME KI ARGUMENT ME KYA DAALU?\n",
        "  #print(q, q_dot)\n",
        "  q_all1.append(q[0])\n",
        "  q_all2.append(q[1])\n",
        "  q_all3.append(q[2])\n",
        "  q_dot_all1.append(q_dot[0])\n",
        "  q_dot_all2.append(q_dot[1])\n",
        "  q_dot_all3.append(q_dot[2])\n",
        "  \n",
        "\n",
        "  del_t = time.time() - del_t\n",
        "  loop = loop + 1\n",
        "  if loop>100:\n",
        "    break\n",
        "\n",
        "plt.plot(time_list, q_all1, label = 'q1 vs time')\n",
        "plt.plot(time_list, q_all2, label = 'q2 vs time')\n",
        "plt.plot(time_list, q_all3, label = 'q3 vs time')\n",
        "plt.legend()"
      ],
      "execution_count": 61,
      "outputs": [
        {
          "output_type": "stream",
          "name": "stdout",
          "text": [
            "q =  [0.7853981633974483, -1.1138622802514613, 1.3467032344935257]\n",
            "qd =  [0.982793723247329, -1.1679944725267064, 1.7948894190962674]\n",
            "0\n"
          ]
        },
        {
          "output_type": "stream",
          "name": "stderr",
          "text": [
            "/usr/local/lib/python3.7/dist-packages/scipy/integrate/_ode.py:1009: UserWarning: vode: Excess work done on this call. (Perhaps wrong MF.)\n",
            "  self.messages.get(istate, unexpected_istate_msg)))\n"
          ]
        },
        {
          "output_type": "execute_result",
          "data": {
            "text/plain": [
              "<matplotlib.legend.Legend at 0x7f393d3b7f90>"
            ]
          },
          "metadata": {},
          "execution_count": 61
        },
        {
          "output_type": "display_data",
          "data": {
            "image/png": "[encoded data removed]",
            "text/plain": [
              "<Figure size 432x288 with 1 Axes>"
            ]
          },
          "metadata": {
            "needs_background": "light"
          }
        }
      ]
    },
    {
      "cell_type": "markdown",
      "metadata": {
        "id": "_QOc7Ls9eCvE"
      },
      "source": [
        "# Implementation of SCARA Dynamics and Control"
      ]
    },
    {
      "cell_type": "code",
      "metadata": {
        "id": "Hn7oyGpBAtGk"
      },
      "source": [
        "def SCARA_invkin(p, dimensions):\n",
        "    #Takes Transformation Matrix T and SCARA Manipulator (with shperical wrist) Dimensions as input and\n",
        "    #returns joint params for a Stanford Manipulator to achieve the given position (Transformation Matrix)\n",
        "\n",
        "    #dimensions is an array of form [l1, l2, l4, l5, l6]---> Link lengths\n",
        "    ##Refer to pdf to look which link length corresponds to which\n",
        "\n",
        "    l1, l2 = dimensions\n",
        "\n",
        "    #Position of wrist centre\n",
        "    x,y,z = np.array(p)\n",
        "\n",
        "    #Inverse Position of wrist centre\n",
        "    #First 3 params\n",
        "    q2 = np.arccos((x*x + y*y - l1**2 - l2**2)/(2*l1*l2))\n",
        "    q1 = np.arctan2(y,x) - np.arctan(l2*np.sin(q2)/(l1 + l2*np.cos(q2)))\n",
        "    d3 = -z + l1\n",
        "    if d3 < 0:\n",
        "        print('Point out of workspace')\n",
        "        return None\n",
        "\n",
        "    return q1, q2, d3\n",
        "\n",
        "def SCARA_forwkin(q, dimensions):\n",
        "    q1, q2, d3 = q\n",
        "    l1, l2 - dimensions\n",
        "\n",
        "    Dh = np.matrix([[q1, l1, l1, 0],\n",
        "                    [q2, 0, l2, np.pi],\n",
        "                    [0, d3, 0, 0]])\n",
        "    H = DH2HnJ(Dh,[2])\n",
        "\n",
        "    return H[0, -1], H[1, -1], H[2, -1]"
      ],
      "execution_count": 130,
      "outputs": []
    },
    {
      "cell_type": "code",
      "metadata": {
        "id": "aZKL4Py-fNEX"
      },
      "source": [
        "def SCARA_Dmat(m, l):\n",
        "  m1, m2, m3 = m\n",
        "  l1, l2 = l\n",
        "  q1 = sym.Symbol('q1')\n",
        "  q2 = sym.Symbol('q2')\n",
        "  q3 = sym.Symbol('q3')\n",
        "  q1_dot = sym.Symbol('q1_dot')\n",
        "  q2_dot = sym.Symbol('q2_dot')\n",
        "  q3_dot = sym.Symbol('q3_dot')\n",
        "  q1_dotdot = sym.Symbol('q1_dotdot')\n",
        "  q2_dotdot = sym.Symbol('q2_dotdot')\n",
        "  q3_dotdot = sym.Symbol('q3_dotdot')\n",
        "\n",
        "  Jvc1 = np.array([[(-l1/2)*sym.sin(q1), 0, 0],\n",
        "                   [(l2/2)*sym.cos(q1), 0, 0], \n",
        "                   [0, 0, 0]])\n",
        "  \n",
        "  Jvc2 = np.array([[-l2*sym.sin(q1) - (l3/2)*sym.sin(q1 + q2), -(l3/2)*sym.sin(q1+q2), 0],\n",
        "          [l2*sym.cos(q1) + (l3/2)*sym.cos(q1+q2), (l3/2)*sym.cos(q1+q2), 0],\n",
        "          [0, 0, 0]])\n",
        "  \n",
        "  Jvc3 = np.array([[-l2*sym.sin(q1) - l3*sym.sin(q1+q2), -l3*sym.sin(q1+q2), 0],\n",
        "                  [l2*sym.cos(q1) + l3*sym.cos(q1 + q2), l3*sym.cos(q1+q2), 0],\n",
        "                  [0, 0, 1/2]])\n",
        "  \n",
        "  D = m1*Jvc1.T*Jvc1 + m2*Jvc2.T*Jvc2 + m3*Jvc3.T*Jvc3 #+ Jw1.T*R1*I1*R1.T*Jw1  + Jw2.T*R2*I2*R2.T*Jw2 + Jw3.T*R3*I3*R3.T*Jw3\n",
        "\n",
        "  return D\n",
        "\n",
        "#SCARA_Dmat([2, 2, 2], [0.25, 0.25])"
      ],
      "execution_count": 139,
      "outputs": []
    },
    {
      "cell_type": "code",
      "metadata": {
        "id": "bMcc2j5udX94"
      },
      "source": [
        "def SCARA_dynamic_equation(m, l):\n",
        "  l1, l2 = l\n",
        "  m1, m2, m3 = m\n",
        "  q1 = sym.Symbol('q1')\n",
        "  q2 = sym.Symbol('q2')\n",
        "  q3 = sym.Symbol('q3')\n",
        "  q = np.array([[q1], [q2], [q3]])\n",
        "  q1_dot = sym.Symbol('q1_dot')\n",
        "  q2_dot = sym.Symbol('q2_dot')\n",
        "  q3_dot = sym.Symbol('q3_dot')\n",
        "  q_dot = np.array([[q1_dot], [q2_dot], [q3_dot]])\n",
        "  q1_dotdot = sym.Symbol('q1_dotdot')\n",
        "  q2_dotdot = sym.Symbol('q2_dotdot')\n",
        "  q3_dotdot = sym.Symbol('q3_dotdot')\n",
        "  q_dotdot = np.array([[q1_dotdot], [q2_dotdot], [q3_dotdot]])\n",
        "  g = 9.8\n",
        "\n",
        "  n = 3\n",
        "\n",
        "  D = SCARA_Dmat(m, l)\n",
        "  \n",
        "  V = g*(m1*l1 + m2*l1 + m3*(l1 + q3/2))\n",
        "\n",
        "  G = np.array([[sym.diff(V, q1)],\n",
        "                [sym.diff(V, q2)],\n",
        "                [sym.diff(V, q3)]])\n",
        "  \n",
        "  C = [0]*n\n",
        "\n",
        "  for k in range(n):\n",
        "    for j in range(n):\n",
        "      for i in range(n):\n",
        "        C[k]  = (sym.diff(D[k][j], q[i][0]) + sym.diff(D[k][i], q[j][0]) - sym.diff(D[i][j], q[k][0]))\n",
        "        C[k] = C[k]/2\n",
        "\n",
        "  C = np.array(C)\n",
        "\n",
        "  dynamic_eqn = sym.Array(D@q_dotdot + C@q_dot + G) #np.matmul(D,q_dotdot) + np.matmul(C,q_dot) + G\n",
        "  return dynamic_eqn, D, C, G\n",
        "\n",
        "#eqn, D, C, G = SCARA_dynamic_equation([2,2,2],[0.5,0.3])"
      ],
      "execution_count": 140,
      "outputs": []
    },
    {
      "cell_type": "code",
      "metadata": {
        "id": "7NDyu54hgL4W"
      },
      "source": [
        "def SCARA_invdynamics(m, l, q, q_dot, torques):\n",
        "  q1, q2, q3 = q\n",
        "  q1_dot, q2_dot, q3_dot = q_dot\n",
        "\n",
        "  eqn, D, C, G = SCARA_dynamic_equation(m, l)\n",
        "\n",
        "  eqn_numbers = eqn.subs([('q1',q1), ('q2',q2), ('q3',q3), ('q1_dot', q1_dot), ('q2_dot',q2_dot), ('q3_dot',q3_dot)])\n",
        "  #print(eqn_numbers)\n",
        "\n",
        "  D_numbers = np.array([[eqn_numbers[0,0].coeff('q1_dotdot'), eqn_numbers[0,0].coeff('q2_dotdot'), eqn_numbers[0,0].coeff('q3_dotdot')],\n",
        "                [eqn_numbers[1,0].coeff('q1_dotdot'), eqn_numbers[1,0].coeff('q2_dotdot'), eqn_numbers[1,0].coeff('q3_dotdot')],\n",
        "                [eqn_numbers[2,0].coeff('q1_dotdot'), eqn_numbers[2,0].coeff('q2_dotdot'), eqn_numbers[2,0].coeff('q3_dotdot')]], dtype = 'float')\n",
        "  #print(D_numbers)\n",
        "  \n",
        " # M = C@q_dot + G\n",
        " # K = eqn_numbers - D@np.array([['q1_dotdot'],['q2_dotdot'],['q3_dotdot']])\n",
        "  K = np.array([[((eqn_numbers[0,0].coeff('q1_dotdot', 0)).coeff('q2_dotdot', 0)).coeff('q3_dotdot', 0)],\n",
        "                [((eqn_numbers[1,0].coeff('q1_dotdot', 0)).coeff('q2_dotdot', 0)).coeff('q3_dotdot', 0)],\n",
        "                [((eqn_numbers[2,0].coeff('q1_dotdot', 0)).coeff('q2_dotdot', 0)).coeff('q3_dotdot', 0)]])\n",
        "  #print(K)\n",
        "  D_inv = np.linalg.inv(D_numbers)\n",
        "  M = np.array([[torques[0] - K[0,0]],\n",
        "                [torques[1] - K[1,0]],\n",
        "                [torques[2] - K[2,0]]])\n",
        "  #print(D_inv)\n",
        "  #print(M)\n",
        "  q_dotdot = np.array(D_inv@M, dtype = 'float')\n",
        "  #print(q_dotdot)\n",
        "  return [q_dotdot[0,0], q_dotdot[1,0], q_dotdot[2,0]]\n",
        "\n",
        "#SCARA_invdynamics([2,2,2], [0.5,0.3], [0.4,0.4,0.4],[0.1,0.1,0.1], [3,4,5])"
      ],
      "execution_count": 141,
      "outputs": []
    },
    {
      "cell_type": "code",
      "metadata": {
        "id": "mSKZlbv5gNZI"
      },
      "source": [
        "def dummy_SCARA_invdynamics(t, y):\n",
        "  #m = [2, 2, 2]\n",
        "  #l = [0.5, 0.3, 0.3]\n",
        "  q1, q2, q3 = y[0], y[2], y[4]\n",
        "  q1_dot, q2_dot, q3_dot = y[1], y[3], y[5]\n",
        "\n",
        "  eqn, D, C, G = SCARA_dynamic_equation(m, l)\n",
        "\n",
        "  eqn_numbers = eqn.subs([('q1',q1), ('q2',q2), ('q3',q3), ('q1_dot', q1_dot), ('q2_dot',q2_dot), ('q3_dot',q3_dot)])\n",
        "  #print(eqn_numbers)\n",
        "\n",
        "  D_numbers = np.array([[eqn_numbers[0,0].coeff('q1_dotdot'), eqn_numbers[0,0].coeff('q2_dotdot'), eqn_numbers[0,0].coeff('q3_dotdot')],\n",
        "                [eqn_numbers[1,0].coeff('q1_dotdot'), eqn_numbers[1,0].coeff('q2_dotdot'), eqn_numbers[1,0].coeff('q3_dotdot')],\n",
        "                [eqn_numbers[2,0].coeff('q1_dotdot'), eqn_numbers[2,0].coeff('q2_dotdot'), eqn_numbers[2,0].coeff('q3_dotdot')]], dtype = 'float')\n",
        "  #print(D_numbers)\n",
        "  \n",
        " # M = C@q_dot + G\n",
        " # K = eqn_numbers - D@np.array([['q1_dotdot'],['q2_dotdot'],['q3_dotdot']])\n",
        "  K = np.array([[((eqn_numbers[0,0].coeff('q1_dotdot', 0)).coeff('q2_dotdot', 0)).coeff('q3_dotdot', 0)],\n",
        "                [((eqn_numbers[1,0].coeff('q1_dotdot', 0)).coeff('q2_dotdot', 0)).coeff('q3_dotdot', 0)],\n",
        "                [((eqn_numbers[2,0].coeff('q1_dotdot', 0)).coeff('q2_dotdot', 0)).coeff('q3_dotdot', 0)]])\n",
        "  #print(K)\n",
        "  D_inv = np.linalg.inv(D_numbers)\n",
        "  M = np.array([[torques[0] - K[0,0]],\n",
        "                [torques[1] - K[1,0]],\n",
        "                [torques[2] - K[2,0]]])\n",
        "  #print(D_inv)\n",
        "  #print(M)\n",
        "  q_dotdot = np.array(D_inv@M, dtype = 'float')\n",
        "  #print(q_dotdot)\n",
        "  return [q_dot[0], q_dotdot[0,0], q_dot[1], q_dotdot[1,0], q_dot[2], q_dotdot[2,0]]"
      ],
      "execution_count": 137,
      "outputs": []
    },
    {
      "cell_type": "code",
      "metadata": {
        "id": "9xurA10GiM3c",
        "outputId": "e6fc7615-d8d2-4a8c-bb01-b0eda8459384",
        "colab": {
          "base_uri": "https://localhost:8080/",
          "height": 380
        }
      },
      "source": [
        "#def PI_Control(A, B):\n",
        "l1, l2 = 0.5, 0.3\n",
        "m1, m2, m3 = 2, 2, 2\n",
        "A = [0.3, 0.3, 0.3]\n",
        "B = [0.2 , 0.3, 0.4]\n",
        "l = [l1, l2]\n",
        "m = [m1, m2, m3]\n",
        "\n",
        "q1_A, q2_A, q3_A = SCARA_invkin(A, l)\n",
        "q1_B, q2_B, q3_B = SCARA_invkin(B, l)\n",
        "\n",
        "q = [q1_A, q2_A, q3_A]\n",
        "qd = [q1_B, q2_B, q3_B]\n",
        "print('q = ', q)\n",
        "print('qd = ', qd)\n",
        "\n",
        "q_dot = [0, 0, 0]\n",
        "\n",
        "kp = 100\n",
        "ki = 50\n",
        "\n",
        "ode_eqn = ode(dummy_SCARA_invdynamics).set_integrator('vode', nsteps=5, method='bdf')\n",
        "ode_eqn.set_initial_value([q1_A, 0, q2_A, 0, q3_A, 0], t = 0)\n",
        "print(ode_eqn.t)\n",
        "torques = np.array([0, 0, 0])\n",
        "del_t = 0\n",
        "loop = 0\n",
        "q_all1 = []\n",
        "q_all2 = []\n",
        "q_all3 = []\n",
        "q_dot_all1 = []\n",
        "q_dot_all2 = []\n",
        "q_dot_all3 = []\n",
        "time_list = []\n",
        "while (abs(qd[0] - q[0])>0.001) and (abs(qd[1] - q[1])>0.001) and (abs(qd[2] - q[2])>0.001):\n",
        "  t = time.time()\n",
        "  time_list.append(t)\n",
        "\n",
        "  E = np.array(qd) - np.array(q)\n",
        "  torques = kp*E + ki*E*del_t\n",
        "\n",
        "  q_dotdot = SCARA_invdynamics(m, l, q, q_dot, torques)\n",
        "  q[0], q_dot[0], q[1], q_dot[1], q[2], q_dot[2] = ode_eqn.integrate(ode_eqn.t+1) #DOUBT: ISME TIME KI ARGUMENT ME KYA DAALU?\n",
        "  #print(q, q_dot)\n",
        "  q_all1.append(q[0])\n",
        "  q_all2.append(q[1])\n",
        "  q_all3.append(q[2])\n",
        "  q_dot_all1.append(q_dot[0])\n",
        "  q_dot_all2.append(q_dot[1])\n",
        "  q_dot_all3.append(q_dot[2])\n",
        "  \n",
        "\n",
        "  del_t = time.time() - del_t\n",
        "  loop = loop + 1\n",
        "  if loop>100:\n",
        "    break\n",
        "\n",
        "plt.plot(time_list, q_all1, label = 'q1 vs time')\n",
        "plt.plot(time_list, q_all2, label = 'q2 vs time')\n",
        "plt.plot(time_list, q_all3, label = 'q3 vs time')\n",
        "plt.legend()"
      ],
      "execution_count": 138,
      "outputs": [
        {
          "output_type": "stream",
          "name": "stdout",
          "text": [
            "q =  [0.1442134426844689, 2.133332571338752, 0.2]\n",
            "qd =  [0.34651963800397456, 2.3461938234056494, 0.09999999999999998]\n",
            "0\n"
          ]
        },
        {
          "output_type": "stream",
          "name": "stderr",
          "text": [
            "/usr/local/lib/python3.7/dist-packages/scipy/integrate/_ode.py:1009: UserWarning: vode: Excess work done on this call. (Perhaps wrong MF.)\n",
            "  self.messages.get(istate, unexpected_istate_msg)))\n"
          ]
        },
        {
          "output_type": "execute_result",
          "data": {
            "text/plain": [
              "<matplotlib.legend.Legend at 0x7f393c517490>"
            ]
          },
          "metadata": {},
          "execution_count": 138
        },
        {
          "output_type": "display_data",
          "data": {
            "image/png": "[encoded data removed]",
            "text/plain": [
              "<Figure size 432x288 with 1 Axes>"
            ]
          },
          "metadata": {
            "needs_background": "light"
          }
        }
      ]
    },
    {
      "cell_type": "markdown",
      "metadata": {
        "id": "QFBS4JGwkSkh"
      },
      "source": [
        "# Implementation of Stanford Dynamics and Control"
      ]
    },
    {
      "cell_type": "code",
      "metadata": {
        "id": "6Pb2LowdiNmw"
      },
      "source": [
        "def Stanford_invkin(p, dimensions):\n",
        "    #Takes Transformation Matrix T and Stanford Manipulator (with shperical wrist) Dimensions as input and\n",
        "    #returns joint params for a Stanford Manipulator to achieve the given position (Transformation Matrix)\n",
        "\n",
        "    l1, l2 = dimensions\n",
        "    x,y,z = np.array(p)\n",
        "\n",
        "    #First 3 params\n",
        "    q1 = np.arctan2(y,x)\n",
        "    q2 = np.arctan2(z-l1, np.sqrt(x**2 + y**2))\n",
        "    d3 = np.sqrt(x**2 + y**2 + (z-l1)**2) - l2\n",
        "    if d3 < 0:\n",
        "        print('Point out of workspace')\n",
        "        return None\n",
        "  \n",
        "    return q1, q2, d3\n",
        "\n",
        "def Stanford_forwkin(q, dimensions):\n",
        "  q1, q2, d3 = q\n",
        "  l1, l2 = dimensions\n",
        "\n",
        "  Dh = np.matrix([[q1, l1, 0, np.pi/2],[np.pi/2 + q2, 0, 0, np.pi/2 ],[0, l2 + d3 , 0, 0],[0,0,0,-np.pi/2],[0,0,0,np.pi/2],[0, 0, 0,0]])\n",
        "  H, J = DH2HnJ(Dh,[2])\n",
        "\n",
        "  return H[0,-1], H[1, -1], H[2, -1]"
      ],
      "execution_count": 103,
      "outputs": []
    },
    {
      "cell_type": "code",
      "metadata": {
        "id": "mMgtGfWulV7x"
      },
      "source": [
        "def Stanford_Dmat(m, l):\n",
        "  m1, m2, m3 = m\n",
        "  l1, l2 = l\n",
        "  q1 = sym.Symbol('q1')\n",
        "  q2 = sym.Symbol('q2')\n",
        "  q3 = sym.Symbol('q3')\n",
        "  q1_dot = sym.Symbol('q1_dot')\n",
        "  q2_dot = sym.Symbol('q2_dot')\n",
        "  q3_dot = sym.Symbol('q3_dot')\n",
        "  q1_dotdot = sym.Symbol('q1_dotdot')\n",
        "  q2_dotdot = sym.Symbol('q2_dotdot')\n",
        "  q3_dotdot = sym.Symbol('q3_dotdot')\n",
        "\n",
        "  Jvc1 = np.array([[0, 0, 0],\n",
        "                   [0, 0, 0], \n",
        "                   [0, 0, 0]])\n",
        "  \n",
        "  Jvc2 = np.array([[(-l2/2)*sym.sin(q1)*sym.cos(q2), -(l2/2)*sym.cos(q1)*sym.sin(q2), 0],\n",
        "          [l2/2*sym.cos(q1)*sym.cos(q2), (-l2/2)*sym.sin(q1)*sym.sin(q2), 0],\n",
        "          [0, l2/2*sym.cos(q2), 0]])\n",
        "  \n",
        "  Jvc3 = np.array([[-(l2 + q3/2)*sym.sin(q1)*sym.cos(q2), -(l2 + q3/2)*sym.cos(q1)*sym.sin(q2), sym.cos(q1)*sym.cos(q2)/2],\n",
        "                  [(l2 + q3/2)*sym.cos(q1)*sym.cos(q2), -(l2 + q3/2)*sym.sin(q1)*sym.sin(q2), sym.sin(q1)*sym.cos(q2)/2],\n",
        "                  [0, (l2 + q3/2)*sym.cos(q2), sym.sin(q2)/2]])\n",
        "  \n",
        "  D = m1*Jvc1.T*Jvc1 + m2*Jvc2.T*Jvc2 + m3*Jvc3.T*Jvc3 #+ Jw1.T*R1*I1*R1.T*Jw1  + Jw2.T*R2*I2*R2.T*Jw2 + Jw3.T*R3*I3*R3.T*Jw3\n",
        "\n",
        "  return D\n",
        "\n",
        "#Stanford_Dmat([2, 2, 2], [0.25, 0.25])"
      ],
      "execution_count": null,
      "outputs": []
    },
    {
      "cell_type": "code",
      "metadata": {
        "id": "Dkq1bb9DnL-y"
      },
      "source": [
        "def Stanford_dynamic_equation(m, l):\n",
        "  l1, l2 = l\n",
        "  m1, m2, m3 = m\n",
        "  q1 = sym.Symbol('q1')\n",
        "  q2 = sym.Symbol('q2')\n",
        "  q3 = sym.Symbol('q3')\n",
        "  q = np.array([[q1], [q2], [q3]])\n",
        "  q1_dot = sym.Symbol('q1_dot')\n",
        "  q2_dot = sym.Symbol('q2_dot')\n",
        "  q3_dot = sym.Symbol('q3_dot')\n",
        "  q_dot = np.array([[q1_dot], [q2_dot], [q3_dot]])\n",
        "  q1_dotdot = sym.Symbol('q1_dotdot')\n",
        "  q2_dotdot = sym.Symbol('q2_dotdot')\n",
        "  q3_dotdot = sym.Symbol('q3_dotdot')\n",
        "  q_dotdot = np.array([[q1_dotdot], [q2_dotdot], [q3_dotdot]])\n",
        "  g = 9.8\n",
        "\n",
        "  n = 3\n",
        "\n",
        "  D = Stanford_Dmat(m, l)\n",
        "  \n",
        "  V = m1*g*l1/2 + m2*g*(l1 + l2/2*sym.sin(q1)) + m3*(l1 + (l2 + q3)*sym.sin(q2))\n",
        "\n",
        "  G = np.array([[sym.diff(V, q1)],\n",
        "                [sym.diff(V, q2)],\n",
        "                [sym.diff(V, q3)]])\n",
        "  \n",
        "  C = [0]*n\n",
        "\n",
        "  for k in range(n):\n",
        "    for j in range(n):\n",
        "      for i in range(n):\n",
        "        C[k]  = (sym.diff(D[k][j], q[i][0]) + sym.diff(D[k][i], q[j][0]) - sym.diff(D[i][j], q[k][0]))\n",
        "        C[k] = C[k]/2\n",
        "\n",
        "  C = np.array(C)\n",
        "\n",
        "  dynamic_eqn = sym.Array(D@q_dotdot + C@q_dot + G) #np.matmul(D,q_dotdot) + np.matmul(C,q_dot) + G\n",
        "  return dynamic_eqn, D, C, G\n",
        "\n",
        "eqn, D, C, G = Stanford_dynamic_equation([2,2,2],[0.5,0.3])"
      ],
      "execution_count": 114,
      "outputs": []
    },
    {
      "cell_type": "code",
      "metadata": {
        "id": "ehrWAw8inuAH",
        "outputId": "100b7f64-8f4e-4525-9f3b-97892c1c0217",
        "colab": {
          "base_uri": "https://localhost:8080/"
        }
      },
      "source": [
        "def Stanford_invdynamics(m, l, q, q_dot, torques):\n",
        "  q1, q2, q3 = q\n",
        "  q1_dot, q2_dot, q3_dot = q_dot\n",
        "\n",
        "  eqn, D, C, G = Stanford_dynamic_equation(m, l)\n",
        "\n",
        "  eqn_numbers = eqn.subs([('q1',q1), ('q2',q2), ('q3',q3), ('q1_dot', q1_dot), ('q2_dot',q2_dot), ('q3_dot',q3_dot)])\n",
        "  #print(eqn_numbers)\n",
        "\n",
        "  D_numbers = np.array([[eqn_numbers[0,0].coeff('q1_dotdot'), eqn_numbers[0,0].coeff('q2_dotdot'), eqn_numbers[0,0].coeff('q3_dotdot')],\n",
        "                [eqn_numbers[1,0].coeff('q1_dotdot'), eqn_numbers[1,0].coeff('q2_dotdot'), eqn_numbers[1,0].coeff('q3_dotdot')],\n",
        "                [eqn_numbers[2,0].coeff('q1_dotdot'), eqn_numbers[2,0].coeff('q2_dotdot'), eqn_numbers[2,0].coeff('q3_dotdot')]], dtype = 'float')\n",
        "  #print(D_numbers)\n",
        "  \n",
        " # M = C@q_dot + G\n",
        " # K = eqn_numbers - D@np.array([['q1_dotdot'],['q2_dotdot'],['q3_dotdot']])\n",
        "  K = np.array([[((eqn_numbers[0,0].coeff('q1_dotdot', 0)).coeff('q2_dotdot', 0)).coeff('q3_dotdot', 0)],\n",
        "                [((eqn_numbers[1,0].coeff('q1_dotdot', 0)).coeff('q2_dotdot', 0)).coeff('q3_dotdot', 0)],\n",
        "                [((eqn_numbers[2,0].coeff('q1_dotdot', 0)).coeff('q2_dotdot', 0)).coeff('q3_dotdot', 0)]])\n",
        "  #print(K)\n",
        "  D_inv = np.linalg.inv(D_numbers)\n",
        "  M = np.array([[torques[0] - K[0,0]],\n",
        "                [torques[1] - K[1,0]],\n",
        "                [torques[2] - K[2,0]]])\n",
        "  #print(D_inv)\n",
        "  #print(M)\n",
        "  q_dotdot = np.array(D_inv@M, dtype = 'float')\n",
        "  #print(q_dotdot)\n",
        "  return [q_dotdot[0,0], q_dotdot[1,0], q_dotdot[2,0]]\n",
        "\n",
        "#Stanford_invdynamics([2,2,2], [0.5,0.3], [0.4,0.4,0.4],[0.1,0.1,0.1], [3,4,5])"
      ],
      "execution_count": 116,
      "outputs": [
        {
          "output_type": "execute_result",
          "data": {
            "text/plain": [
              "[22.712393038201352, 7.832843910249302, 38.62575096576823]"
            ]
          },
          "metadata": {},
          "execution_count": 116
        }
      ]
    },
    {
      "cell_type": "code",
      "metadata": {
        "id": "_Op-J42Gn_FU"
      },
      "source": [
        "def dummy_Stanford_invdynamics(t, y):\n",
        "  #m = [2, 2, 2]\n",
        "  #l = [0.5, 0.3, 0.3]\n",
        "  q1, q2, q3 = y[0], y[2], y[4]\n",
        "  q1_dot, q2_dot, q3_dot = y[1], y[3], y[5]\n",
        "\n",
        "  eqn, D, C, G = Stanford_dynamic_equation(m, l)\n",
        "\n",
        "  eqn_numbers = eqn.subs([('q1',q1), ('q2',q2), ('q3',q3), ('q1_dot', q1_dot), ('q2_dot',q2_dot), ('q3_dot',q3_dot)])\n",
        "  #print(eqn_numbers)\n",
        "\n",
        "  D_numbers = np.array([[eqn_numbers[0,0].coeff('q1_dotdot'), eqn_numbers[0,0].coeff('q2_dotdot'), eqn_numbers[0,0].coeff('q3_dotdot')],\n",
        "                [eqn_numbers[1,0].coeff('q1_dotdot'), eqn_numbers[1,0].coeff('q2_dotdot'), eqn_numbers[1,0].coeff('q3_dotdot')],\n",
        "                [eqn_numbers[2,0].coeff('q1_dotdot'), eqn_numbers[2,0].coeff('q2_dotdot'), eqn_numbers[2,0].coeff('q3_dotdot')]], dtype = 'float')\n",
        "  #print(D_numbers)\n",
        "  \n",
        " # M = C@q_dot + G\n",
        " # K = eqn_numbers - D@np.array([['q1_dotdot'],['q2_dotdot'],['q3_dotdot']])\n",
        "  K = np.array([[((eqn_numbers[0,0].coeff('q1_dotdot', 0)).coeff('q2_dotdot', 0)).coeff('q3_dotdot', 0)],\n",
        "                [((eqn_numbers[1,0].coeff('q1_dotdot', 0)).coeff('q2_dotdot', 0)).coeff('q3_dotdot', 0)],\n",
        "                [((eqn_numbers[2,0].coeff('q1_dotdot', 0)).coeff('q2_dotdot', 0)).coeff('q3_dotdot', 0)]])\n",
        "  #print(K)\n",
        "  D_inv = np.linalg.inv(D_numbers)\n",
        "  M = np.array([[torques[0] - K[0,0]],\n",
        "                [torques[1] - K[1,0]],\n",
        "                [torques[2] - K[2,0]]])\n",
        "  #print(D_inv)\n",
        "  #print(M)\n",
        "  q_dotdot = np.array(D_inv@M, dtype = 'float')\n",
        "  #print(q_dotdot)\n",
        "  return [q_dot[0], q_dotdot[0,0], q_dot[1], q_dotdot[1,0], q_dot[2], q_dotdot[2,0]]"
      ],
      "execution_count": 117,
      "outputs": []
    },
    {
      "cell_type": "code",
      "metadata": {
        "id": "pxXayZWYon4W",
        "outputId": "91462206-1b8b-40b1-a18f-12c5aa8a8dc7",
        "colab": {
          "base_uri": "https://localhost:8080/",
          "height": 414
        }
      },
      "source": [
        "#def PI_Control(A, B):\n",
        "l1, l2 = 0.5, 0.3\n",
        "m1, m2, m3 = 2, 2, 2\n",
        "A = [0.3, 0.3, 0.3]\n",
        "B = [0.2 , 0.3, 0.4]\n",
        "l = [l1, l2]\n",
        "m = [m1, m2, m3]\n",
        "\n",
        "q1_A, q2_A, q3_A = Stanford_invkin(A, l)\n",
        "q1_B, q2_B, q3_B = Stanford_invkin(B, l)\n",
        "\n",
        "q = [q1_A, q2_A, q3_A]\n",
        "qd = [q1_B, q2_B, q3_B]\n",
        "print('q = ', q)\n",
        "print('qd = ', qd)\n",
        "\n",
        "q_dot = [0, 0, 0]\n",
        "\n",
        "kp = 100\n",
        "ki = 50\n",
        "\n",
        "ode_eqn = ode(dummy_Stanford_invdynamics).set_integrator('vode', nsteps=5, method='bdf')\n",
        "ode_eqn.set_initial_value([q1_A, 0, q2_A, 0, q3_A, 0], t = 0)\n",
        "print(ode_eqn.t)\n",
        "torques = np.array([0, 0, 0])\n",
        "del_t = 0\n",
        "loop = 0\n",
        "q_all1 = []\n",
        "q_all2 = []\n",
        "q_all3 = []\n",
        "q_dot_all1 = []\n",
        "q_dot_all2 = []\n",
        "q_dot_all3 = []\n",
        "time_list = []\n",
        "while (abs(qd[0] - q[0])>0.001) and (abs(qd[1] - q[1])>0.001) and (abs(qd[2] - q[2])>0.001):\n",
        "  t = time.time()\n",
        "  time_list.append(t)\n",
        "\n",
        "  E = np.array(qd) - np.array(q)\n",
        "  torques = kp*E + ki*E*del_t\n",
        "\n",
        "  q_dotdot = Stanford_invdynamics(m, l, q, q_dot, torques)\n",
        "  q[0], q_dot[0], q[1], q_dot[1], q[2], q_dot[2] = ode_eqn.integrate(ode_eqn.t+1) #DOUBT: ISME TIME KI ARGUMENT ME KYA DAALU?\n",
        "  #print(q, q_dot)\n",
        "  q_all1.append(q[0])\n",
        "  q_all2.append(q[1])\n",
        "  q_all3.append(q[2])\n",
        "  q_dot_all1.append(q_dot[0])\n",
        "  q_dot_all2.append(q_dot[1])\n",
        "  q_dot_all3.append(q_dot[2])\n",
        "  \n",
        "\n",
        "  del_t = time.time() - del_t\n",
        "  loop = loop + 1\n",
        "  if loop>100:\n",
        "    break\n",
        "\n",
        "plt.plot(time_list, q_all1, label = 'q1 vs time')\n",
        "plt.plot(time_list, q_all2, label = 'q2 vs time')\n",
        "plt.plot(time_list, q_all3, label = 'q3 vs time')\n",
        "plt.legend()"
      ],
      "execution_count": 118,
      "outputs": [
        {
          "output_type": "stream",
          "name": "stdout",
          "text": [
            "q =  [0.7853981633974483, -0.4405106630046985, 0.16904157598234298]\n",
            "qd =  [0.982793723247329, -0.2705497629785728, 0.07416573867739418]\n",
            "0\n"
          ]
        },
        {
          "output_type": "stream",
          "name": "stderr",
          "text": [
            "/usr/local/lib/python3.7/dist-packages/scipy/integrate/_ode.py:1009: UserWarning: vode: Excess work done on this call. (Perhaps wrong MF.)\n",
            "  self.messages.get(istate, unexpected_istate_msg)))\n",
            "/usr/local/lib/python3.7/dist-packages/scipy/integrate/_ode.py:1009: UserWarning: vode: Repeated error test failures. (Check all input.)\n",
            "  self.messages.get(istate, unexpected_istate_msg)))\n"
          ]
        },
        {
          "output_type": "execute_result",
          "data": {
            "text/plain": [
              "<matplotlib.legend.Legend at 0x7f393cc6f190>"
            ]
          },
          "metadata": {},
          "execution_count": 118
        },
        {
          "output_type": "display_data",
          "data": {
            "image/png": "[encoded data removed]",
            "text/plain": [
              "<Figure size 432x288 with 1 Axes>"
            ]
          },
          "metadata": {
            "needs_background": "light"
          }
        }
      ]
    }
  ]
}